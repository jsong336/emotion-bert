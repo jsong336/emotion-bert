{
  "cells": [
    {
      "cell_type": "code",
      "execution_count": 23,
      "metadata": {
        "id": "lDBZcPC1yiw6"
      },
      "outputs": [],
      "source": [
        "import transformers\n",
        "assert transformers.__version__ >= '4.17.'\n",
        "\n",
        "import os \n",
        "import re\n",
        "import numpy as np \n",
        "import random\n",
        "import pandas as pd\n",
        "import preprocessor\n",
        "import torch \n",
        "import shutil\n",
        "import yaml\n",
        "from transformers import (\n",
        "    AutoTokenizer, \n",
        "    AutoModel , \n",
        "    AdamW, get_linear_schedule_with_warmup)\n",
        "from tqdm import tqdm\n",
        "from sklearn.model_selection import train_test_split\n",
        "from sklearn.metrics import precision_recall_fscore_support, roc_auc_score\n",
        "from torch import Tensor \n",
        "from torch.utils.data import Dataset, DataLoader\n",
        "from attrdict import AttrDict\n",
        "\n",
        "assert torch.cuda.is_available()\n",
        "tqdm.pandas()\n",
        "\n",
        "input_dir = '../inputs'\n",
        "output_dir = '../outputs'\n",
        "\n",
        "project_name = 'go-emotion-tiny'\n",
        "\n",
        "with open('../config/{}.yaml'.format(project_name), 'r') as f:\n",
        "    args = AttrDict(yaml.safe_load(f))\n",
        "\n",
        "def init_seed(seed:int):\n",
        "  torch.manual_seed(seed)\n",
        "  random.seed(seed)\n",
        "  np.random.seed(seed)\n",
        "  return\n",
        "\n",
        "init_seed(args.seed)"
      ]
    },
    {
      "cell_type": "code",
      "execution_count": 24,
      "metadata": {
        "id": "kI1iwpH70ELN"
      },
      "outputs": [],
      "source": [
        "# utility functions\n",
        "re_number = re.compile('[0-9]+')\n",
        "re_url = re.compile(\"http[s]?://(?:[a-zA-Z]|[0-9]|[$-_@.&+]|[!*\\(\\),]|(?:%[0-9a-fA-F][0-9a-fA-F]))+\")\n",
        "re_tag = re.compile('\\[[A-Z]+\\]')\n",
        "re_char = re.compile('[^0-9a-zA-Z\\s?!.,:\\'\\\"//]+')\n",
        "re_char_clean = re.compile('[^0-9a-zA-Z\\s?!.,\\[\\]]')\n",
        "re_punc = re.compile('[?!,.\\'\\\"]')\n",
        "\n",
        "\n",
        "\n",
        "\n",
        "def _word_mapper(text:str, mapper:dict):\n",
        "    for word in text.split(' '):\n",
        "        if word in mapper:\n",
        "            text = text.replace(word, mapper[word])\n",
        "    return text\n",
        "\n",
        "\n",
        "def _char_mapper(text:str, mapper:dict):\n",
        "    for k, v  in mapper.items():\n",
        "        text = text.replace(k, v)\n",
        "    return text\n",
        "\n",
        "\n",
        "def clean_text(text:str, mapChar:dict, mapC:dict, mapS:dict):\n",
        "    \"\"\"\n",
        "        text:\n",
        "        mapChar: character mapper\n",
        "        mapC: contraction mapper\n",
        "        mapS: spelling mistake mapper\n",
        "    \"\"\"\n",
        "    text = re.sub(re_char, \"\", text) # Remove unknown character\n",
        "    text = _char_mapper(text, mapChar) # Similar characters mapping\n",
        "    text = _word_mapper(text, mapC) # Remove contraction\n",
        "    text = _word_mapper(text, mapS) # Remove spelling mistakes\n",
        "\n",
        "    text = re.sub(re_number, ' [number] ', text) # Replace number with tag\n",
        "    text = re.sub(re_url, ' [url] ', text) # Replace URL with number\n",
        "\n",
        "    text = re.sub(re_punc, lambda a: f\" {a.group(0)} \", text) # Add space between punctuation\n",
        "    text = preprocessor.clean(text) # Remove tweet clean\n",
        "\n",
        "    text = re.sub(re_char_clean, \"\", text) # Only alphanumeric and punctuations.\n",
        "    text = text.lower() # Lower text\n",
        "    text = \" \".join([w for w in text.split(' ') if w != \" \"]) # Remove whitespace\n",
        "\n",
        "    return text\n"
      ]
    },
    {
      "cell_type": "code",
      "execution_count": 5,
      "metadata": {
        "id": "74diy0VT6gLJ"
      },
      "outputs": [],
      "source": [
        "def init_seed(args):\n",
        "  torch.manual_seed(args.seed)\n",
        "  random.seed(args.seed)\n",
        "  np.random.seed(args.seed)\n",
        "  return\n",
        "\n",
        "init_seed(args)"
      ]
    },
    {
      "cell_type": "code",
      "execution_count": 6,
      "metadata": {
        "colab": {
          "base_uri": "https://localhost:8080/",
          "height": 428
        },
        "id": "zB8adw-5y_eE",
        "outputId": "183cad7e-da89-4292-96d9-d5db94308e12"
      },
      "outputs": [
        {
          "data": {
            "text/html": [
              "<div>\n",
              "<style scoped>\n",
              "    .dataframe tbody tr th:only-of-type {\n",
              "        vertical-align: middle;\n",
              "    }\n",
              "\n",
              "    .dataframe tbody tr th {\n",
              "        vertical-align: top;\n",
              "    }\n",
              "\n",
              "    .dataframe thead th {\n",
              "        text-align: right;\n",
              "    }\n",
              "</style>\n",
              "<table border=\"1\" class=\"dataframe\">\n",
              "  <thead>\n",
              "    <tr style=\"text-align: right;\">\n",
              "      <th></th>\n",
              "      <th>id</th>\n",
              "      <th>text</th>\n",
              "      <th>example_very_unclear</th>\n",
              "      <th>admiration</th>\n",
              "      <th>amusement</th>\n",
              "      <th>anger</th>\n",
              "      <th>annoyance</th>\n",
              "      <th>approval</th>\n",
              "      <th>caring</th>\n",
              "      <th>confusion</th>\n",
              "      <th>...</th>\n",
              "      <th>love</th>\n",
              "      <th>nervousness</th>\n",
              "      <th>optimism</th>\n",
              "      <th>pride</th>\n",
              "      <th>realization</th>\n",
              "      <th>relief</th>\n",
              "      <th>remorse</th>\n",
              "      <th>sadness</th>\n",
              "      <th>surprise</th>\n",
              "      <th>neutral</th>\n",
              "    </tr>\n",
              "  </thead>\n",
              "  <tbody>\n",
              "    <tr>\n",
              "      <th>0</th>\n",
              "      <td>eew5j0j</td>\n",
              "      <td>That game hurt.</td>\n",
              "      <td>False</td>\n",
              "      <td>0</td>\n",
              "      <td>0</td>\n",
              "      <td>0</td>\n",
              "      <td>0</td>\n",
              "      <td>0</td>\n",
              "      <td>0</td>\n",
              "      <td>0</td>\n",
              "      <td>...</td>\n",
              "      <td>0</td>\n",
              "      <td>0</td>\n",
              "      <td>0</td>\n",
              "      <td>0</td>\n",
              "      <td>0</td>\n",
              "      <td>0</td>\n",
              "      <td>0</td>\n",
              "      <td>1</td>\n",
              "      <td>0</td>\n",
              "      <td>0</td>\n",
              "    </tr>\n",
              "    <tr>\n",
              "      <th>1</th>\n",
              "      <td>eemcysk</td>\n",
              "      <td>&gt;sexuality shouldn’t be a grouping category I...</td>\n",
              "      <td>True</td>\n",
              "      <td>0</td>\n",
              "      <td>0</td>\n",
              "      <td>0</td>\n",
              "      <td>0</td>\n",
              "      <td>0</td>\n",
              "      <td>0</td>\n",
              "      <td>0</td>\n",
              "      <td>...</td>\n",
              "      <td>0</td>\n",
              "      <td>0</td>\n",
              "      <td>0</td>\n",
              "      <td>0</td>\n",
              "      <td>0</td>\n",
              "      <td>0</td>\n",
              "      <td>0</td>\n",
              "      <td>0</td>\n",
              "      <td>0</td>\n",
              "      <td>0</td>\n",
              "    </tr>\n",
              "    <tr>\n",
              "      <th>2</th>\n",
              "      <td>ed2mah1</td>\n",
              "      <td>You do right, if you don't care then fuck 'em!</td>\n",
              "      <td>False</td>\n",
              "      <td>0</td>\n",
              "      <td>0</td>\n",
              "      <td>0</td>\n",
              "      <td>0</td>\n",
              "      <td>0</td>\n",
              "      <td>0</td>\n",
              "      <td>0</td>\n",
              "      <td>...</td>\n",
              "      <td>0</td>\n",
              "      <td>0</td>\n",
              "      <td>0</td>\n",
              "      <td>0</td>\n",
              "      <td>0</td>\n",
              "      <td>0</td>\n",
              "      <td>0</td>\n",
              "      <td>0</td>\n",
              "      <td>0</td>\n",
              "      <td>1</td>\n",
              "    </tr>\n",
              "  </tbody>\n",
              "</table>\n",
              "<p>3 rows × 31 columns</p>\n",
              "</div>"
            ],
            "text/plain": [
              "        id                                               text  \\\n",
              "0  eew5j0j                                    That game hurt.   \n",
              "1  eemcysk   >sexuality shouldn’t be a grouping category I...   \n",
              "2  ed2mah1     You do right, if you don't care then fuck 'em!   \n",
              "\n",
              "   example_very_unclear  admiration  amusement  anger  annoyance  approval  \\\n",
              "0                 False           0          0      0          0         0   \n",
              "1                  True           0          0      0          0         0   \n",
              "2                 False           0          0      0          0         0   \n",
              "\n",
              "   caring  confusion  ...  love  nervousness  optimism  pride  realization  \\\n",
              "0       0          0  ...     0            0         0      0            0   \n",
              "1       0          0  ...     0            0         0      0            0   \n",
              "2       0          0  ...     0            0         0      0            0   \n",
              "\n",
              "   relief  remorse  sadness  surprise  neutral  \n",
              "0       0        0        1         0        0  \n",
              "1       0        0        0         0        0  \n",
              "2       0        0        0         0        1  \n",
              "\n",
              "[3 rows x 31 columns]"
            ]
          },
          "execution_count": 6,
          "metadata": {},
          "output_type": "execute_result"
        }
      ],
      "source": [
        "# load dataset\n",
        "D = pd.read_csv(args.dataset_source_path)\n",
        "D.head(3)"
      ]
    },
    {
      "cell_type": "code",
      "execution_count": 7,
      "metadata": {
        "colab": {
          "base_uri": "https://localhost:8080/",
          "height": 143
        },
        "id": "SKaPJOXKzAoW",
        "outputId": "e6e878bb-228d-437a-fefd-bf6cea4e72b8"
      },
      "outputs": [
        {
          "data": {
            "text/html": [
              "<div>\n",
              "<style scoped>\n",
              "    .dataframe tbody tr th:only-of-type {\n",
              "        vertical-align: middle;\n",
              "    }\n",
              "\n",
              "    .dataframe tbody tr th {\n",
              "        vertical-align: top;\n",
              "    }\n",
              "\n",
              "    .dataframe thead th {\n",
              "        text-align: right;\n",
              "    }\n",
              "</style>\n",
              "<table border=\"1\" class=\"dataframe\">\n",
              "  <thead>\n",
              "    <tr style=\"text-align: right;\">\n",
              "      <th></th>\n",
              "      <th>correction</th>\n",
              "      <th>misspell</th>\n",
              "    </tr>\n",
              "  </thead>\n",
              "  <tbody>\n",
              "    <tr>\n",
              "      <th>0</th>\n",
              "      <td>Nevada</td>\n",
              "      <td>nevade</td>\n",
              "    </tr>\n",
              "    <tr>\n",
              "      <th>1</th>\n",
              "      <td>Presbyterian</td>\n",
              "      <td>presbyterian</td>\n",
              "    </tr>\n",
              "    <tr>\n",
              "      <th>2</th>\n",
              "      <td>RSX</td>\n",
              "      <td>rsx</td>\n",
              "    </tr>\n",
              "  </tbody>\n",
              "</table>\n",
              "</div>"
            ],
            "text/plain": [
              "     correction      misspell\n",
              "0        Nevada        nevade\n",
              "1  Presbyterian  presbyterian\n",
              "2           RSX           rsx"
            ]
          },
          "execution_count": 7,
          "metadata": {},
          "output_type": "execute_result"
        }
      ],
      "source": [
        "# common spelling mistakes. \n",
        "S = pd.read_csv(os.path.join(input_dir, 'spelling', 'aspell.txt'), sep=\":\",names=[\"correction\",\"misspell\"])\n",
        "S['misspell'] = S['misspell'].str.strip()\n",
        "S['misspell'] = S['misspell'].str.split(' ')\n",
        "S = S.explode('misspell').reset_index(drop=True)\n",
        "S = S.drop_duplicates('misspell')\n",
        "S.head(3)"
      ]
    },
    {
      "cell_type": "code",
      "execution_count": 8,
      "metadata": {
        "colab": {
          "base_uri": "https://localhost:8080/",
          "height": 143
        },
        "id": "jtcy6lllzSDt",
        "outputId": "a06573ac-19e2-497d-afa8-b349b4c24573"
      },
      "outputs": [
        {
          "data": {
            "text/html": [
              "<div>\n",
              "<style scoped>\n",
              "    .dataframe tbody tr th:only-of-type {\n",
              "        vertical-align: middle;\n",
              "    }\n",
              "\n",
              "    .dataframe tbody tr th {\n",
              "        vertical-align: top;\n",
              "    }\n",
              "\n",
              "    .dataframe thead th {\n",
              "        text-align: right;\n",
              "    }\n",
              "</style>\n",
              "<table border=\"1\" class=\"dataframe\">\n",
              "  <thead>\n",
              "    <tr style=\"text-align: right;\">\n",
              "      <th></th>\n",
              "      <th>meaning</th>\n",
              "      <th>contraction</th>\n",
              "    </tr>\n",
              "  </thead>\n",
              "  <tbody>\n",
              "    <tr>\n",
              "      <th>0</th>\n",
              "      <td>alright</td>\n",
              "      <td>'aight</td>\n",
              "    </tr>\n",
              "    <tr>\n",
              "      <th>1</th>\n",
              "      <td>is not</td>\n",
              "      <td>ain't</td>\n",
              "    </tr>\n",
              "    <tr>\n",
              "      <th>2</th>\n",
              "      <td>am not</td>\n",
              "      <td>amn't</td>\n",
              "    </tr>\n",
              "  </tbody>\n",
              "</table>\n",
              "</div>"
            ],
            "text/plain": [
              "   meaning contraction\n",
              "0  alright      'aight\n",
              "1   is not       ain't\n",
              "2   am not       amn't"
            ]
          },
          "execution_count": 8,
          "metadata": {},
          "output_type": "execute_result"
        }
      ],
      "source": [
        "# replacing constraction i.e. shoudn't => shoud not\n",
        "C = pd.read_csv(os.path.join(input_dir, 'contractions', 'contractions.csv'))\n",
        "C.columns = ['contraction', 'meaning']\n",
        "C = C[['meaning', 'contraction']]\n",
        "C.head(3)"
      ]
    },
    {
      "cell_type": "code",
      "execution_count": 9,
      "metadata": {
        "id": "fu9tB2QvzVu7"
      },
      "outputs": [],
      "source": [
        "mapChar = {\n",
        "    '’': '\\''\n",
        "}\n",
        "mapC = dict(zip(C['contraction'], C['meaning']))\n",
        "mapS = dict(zip(S['misspell'], S['correction']))\n",
        "punctuations = '''()-[]{};:'\"\\,<>./@#$%^&_~'''\n",
        "mapP = dict(zip(list(punctuations), [\"\"] * len(punctuations)))\n",
        "\n",
        "def word_mapper(text, mapper):\n",
        "    for word in text.split(' '):\n",
        "        if word in mapper:\n",
        "            text = text.replace(word, mapper[word])\n",
        "    return text\n",
        "\n",
        "def char_mapper(text, mapper):\n",
        "    for k, v  in mapper.items():\n",
        "        text = text.replace(k, v)\n",
        "    return text"
      ]
    },
    {
      "cell_type": "code",
      "execution_count": 10,
      "metadata": {
        "id": "HH0sBQjmzZBg"
      },
      "outputs": [],
      "source": [
        "re_number = re.compile('[0-9]+')\n",
        "re_url = re.compile(\"http[s]?://(?:[a-zA-Z]|[0-9]|[$-_@.&+]|[!*\\(\\),]|(?:%[0-9a-fA-F][0-9a-fA-F]))+\")\n",
        "re_tag = re.compile('\\[[A-Z]+\\]')\n",
        "re_char = re.compile('[^0-9a-zA-Z\\s?!.,:\\'\\\"//]+')\n",
        "re_char_clean = re.compile('[^0-9a-zA-Z\\s?!.,\\[\\]]')\n",
        "re_punc = re.compile('[?!,.\\'\\\"]')\n",
        "\n",
        "def clean_text(text):\n",
        "    text = re.sub(re_char, \"\", text) # Remove unknown character\n",
        "    text = char_mapper(text, mapChar) # Similar characters mapping\n",
        "    text = word_mapper(text, mapC) # Remove contraction\n",
        "    text = word_mapper(text, mapS) # Remove spelling mistakes\n",
        "\n",
        "    text = re.sub(re_number, ' [number] ', text) # Replace number with tag\n",
        "    text = re.sub(re_url, ' [url] ', text) # Replace URL with number\n",
        "\n",
        "    text = re.sub(re_punc, lambda a: f\" {a.group(0)} \", text) # Add space between punctuation\n",
        "    text = preprocessor.clean(text) # Remove tweet clean\n",
        "\n",
        "    text = re.sub(re_char_clean, \"\", text) # Only alphanumeric and punctuations.\n",
        "    text = text.lower() # Lower text\n",
        "    text = \" \".join([w for w in text.split(' ') if w != \" \"]) # Remove whitespace\n",
        "\n",
        "    return text"
      ]
    },
    {
      "cell_type": "code",
      "execution_count": null,
      "metadata": {
        "colab": {
          "base_uri": "https://localhost:8080/"
        },
        "id": "sY54g21JzafM",
        "outputId": "a3097da7-1fa9-4aa3-b57f-c772cd3f9bcf"
      },
      "outputs": [],
      "source": [
        "def prepare_split_data(\n",
        "    dataset_source_path, \n",
        "    train_dataset_path, \n",
        "    test_dataset_path, \n",
        "    emotions, \n",
        "    drop_insignifiant=False, \n",
        "    test_split=0.2, \n",
        "    seed=0, \n",
        "):\n",
        "  emotions = list(emotions)\n",
        "  data = pd.read_csv(dataset_source_path)\n",
        "  data['text'] = data['text'].progress_apply(clean_text)\n",
        "  data = data[data['text'] != '']\n",
        "  data = data[['text'] + list(emotions)]\n",
        "\n",
        "  if drop_insignifiant:\n",
        "    data = data[data[list(emotions)].sum(1) > 0].reset_index(drop=True)\n",
        "\n",
        "  train, test = train_test_split(data, \n",
        "                                 test_size=test_split, \n",
        "                                 shuffle=True, \n",
        "                                 random_state=seed)\n",
        "  \n",
        "  train.to_csv(train_dataset_path, index=None)\n",
        "  test.to_csv(test_dataset_path, index=None)\n",
        "  return\n",
        "\n",
        "prepare_split_data(\n",
        "    args.dataset_source_path, \n",
        "    args.train_dataset_path, \n",
        "    args.test_dataset_path, \n",
        "    args.emotions, \n",
        "    args.drop_insignifiant, \n",
        "    args.test_split, \n",
        "    args.seed\n",
        ")"
      ]
    },
    {
      "cell_type": "code",
      "execution_count": 12,
      "metadata": {
        "colab": {
          "base_uri": "https://localhost:8080/",
          "height": 480
        },
        "id": "zrEQ9j799fgT",
        "outputId": "0113469a-0034-4102-a11c-f2127d49c2db"
      },
      "outputs": [
        {
          "data": {
            "text/html": [
              "<div>\n",
              "<style scoped>\n",
              "    .dataframe tbody tr th:only-of-type {\n",
              "        vertical-align: middle;\n",
              "    }\n",
              "\n",
              "    .dataframe tbody tr th {\n",
              "        vertical-align: top;\n",
              "    }\n",
              "\n",
              "    .dataframe thead th {\n",
              "        text-align: right;\n",
              "    }\n",
              "</style>\n",
              "<table border=\"1\" class=\"dataframe\">\n",
              "  <thead>\n",
              "    <tr style=\"text-align: right;\">\n",
              "      <th></th>\n",
              "      <th>text</th>\n",
              "      <th>admiration</th>\n",
              "      <th>amusement</th>\n",
              "      <th>anger</th>\n",
              "      <th>annoyance</th>\n",
              "      <th>approval</th>\n",
              "      <th>caring</th>\n",
              "      <th>confusion</th>\n",
              "      <th>curiosity</th>\n",
              "      <th>desire</th>\n",
              "      <th>...</th>\n",
              "      <th>joy</th>\n",
              "      <th>love</th>\n",
              "      <th>nervousness</th>\n",
              "      <th>optimism</th>\n",
              "      <th>pride</th>\n",
              "      <th>realization</th>\n",
              "      <th>relief</th>\n",
              "      <th>remorse</th>\n",
              "      <th>sadness</th>\n",
              "      <th>surprise</th>\n",
              "    </tr>\n",
              "  </thead>\n",
              "  <tbody>\n",
              "    <tr>\n",
              "      <th>0</th>\n",
              "      <td>oh yah , no worries . i appreciate your time a...</td>\n",
              "      <td>0</td>\n",
              "      <td>0</td>\n",
              "      <td>0</td>\n",
              "      <td>0</td>\n",
              "      <td>0</td>\n",
              "      <td>0</td>\n",
              "      <td>0</td>\n",
              "      <td>0</td>\n",
              "      <td>0</td>\n",
              "      <td>...</td>\n",
              "      <td>0</td>\n",
              "      <td>0</td>\n",
              "      <td>0</td>\n",
              "      <td>0</td>\n",
              "      <td>0</td>\n",
              "      <td>0</td>\n",
              "      <td>0</td>\n",
              "      <td>0</td>\n",
              "      <td>0</td>\n",
              "      <td>0</td>\n",
              "    </tr>\n",
              "    <tr>\n",
              "      <th>1</th>\n",
              "      <td>name just has the runs . don  t worry , name i...</td>\n",
              "      <td>0</td>\n",
              "      <td>0</td>\n",
              "      <td>0</td>\n",
              "      <td>0</td>\n",
              "      <td>0</td>\n",
              "      <td>0</td>\n",
              "      <td>0</td>\n",
              "      <td>0</td>\n",
              "      <td>0</td>\n",
              "      <td>...</td>\n",
              "      <td>0</td>\n",
              "      <td>0</td>\n",
              "      <td>0</td>\n",
              "      <td>0</td>\n",
              "      <td>0</td>\n",
              "      <td>0</td>\n",
              "      <td>0</td>\n",
              "      <td>0</td>\n",
              "      <td>1</td>\n",
              "      <td>0</td>\n",
              "    </tr>\n",
              "    <tr>\n",
              "      <th>2</th>\n",
              "      <td>it  s the donuts done brought ya back , is not...</td>\n",
              "      <td>0</td>\n",
              "      <td>0</td>\n",
              "      <td>0</td>\n",
              "      <td>0</td>\n",
              "      <td>0</td>\n",
              "      <td>0</td>\n",
              "      <td>1</td>\n",
              "      <td>1</td>\n",
              "      <td>0</td>\n",
              "      <td>...</td>\n",
              "      <td>0</td>\n",
              "      <td>0</td>\n",
              "      <td>0</td>\n",
              "      <td>0</td>\n",
              "      <td>0</td>\n",
              "      <td>0</td>\n",
              "      <td>0</td>\n",
              "      <td>0</td>\n",
              "      <td>0</td>\n",
              "      <td>0</td>\n",
              "    </tr>\n",
              "  </tbody>\n",
              "</table>\n",
              "<p>3 rows × 28 columns</p>\n",
              "</div>"
            ],
            "text/plain": [
              "                                                text  admiration  amusement  \\\n",
              "0  oh yah , no worries . i appreciate your time a...           0          0   \n",
              "1  name just has the runs . don  t worry , name i...           0          0   \n",
              "2  it  s the donuts done brought ya back , is not...           0          0   \n",
              "\n",
              "   anger  annoyance  approval  caring  confusion  curiosity  desire  ...  joy  \\\n",
              "0      0          0         0       0          0          0       0  ...    0   \n",
              "1      0          0         0       0          0          0       0  ...    0   \n",
              "2      0          0         0       0          1          1       0  ...    0   \n",
              "\n",
              "   love  nervousness  optimism  pride  realization  relief  remorse  sadness  \\\n",
              "0     0            0         0      0            0       0        0        0   \n",
              "1     0            0         0      0            0       0        0        1   \n",
              "2     0            0         0      0            0       0        0        0   \n",
              "\n",
              "   surprise  \n",
              "0         0  \n",
              "1         0  \n",
              "2         0  \n",
              "\n",
              "[3 rows x 28 columns]"
            ]
          },
          "execution_count": 12,
          "metadata": {},
          "output_type": "execute_result"
        }
      ],
      "source": [
        "if 'D' in globals():\n",
        "  del D\n",
        "\n",
        "Dtr = pd.read_csv(args.train_dataset_path)\n",
        "Dtr.head(3)"
      ]
    },
    {
      "cell_type": "code",
      "execution_count": 13,
      "metadata": {
        "colab": {
          "base_uri": "https://localhost:8080/"
        },
        "id": "xHbNh2hn_JpD",
        "outputId": "def7d4bd-1a00-48c6-f71d-2dac51daff8c"
      },
      "outputs": [
        {
          "name": "stderr",
          "output_type": "stream",
          "text": [
            "Some weights of the model checkpoint at prajjwal1/bert-tiny were not used when initializing BertModel: ['cls.predictions.transform.LayerNorm.bias', 'cls.predictions.transform.dense.weight', 'cls.predictions.bias', 'cls.predictions.transform.LayerNorm.weight', 'cls.seq_relationship.bias', 'cls.predictions.decoder.weight', 'cls.predictions.transform.dense.bias', 'cls.seq_relationship.weight', 'cls.predictions.decoder.bias']\n",
            "- This IS expected if you are initializing BertModel from the checkpoint of a model trained on another task or with another architecture (e.g. initializing a BertForSequenceClassification model from a BertForPreTraining model).\n",
            "- This IS NOT expected if you are initializing BertModel from the checkpoint of a model that you expect to be exactly identical (initializing a BertForSequenceClassification model from a BertForSequenceClassification model).\n"
          ]
        }
      ],
      "source": [
        "tokenizer = AutoTokenizer.from_pretrained(args.encoder_name)\n",
        "encoder = AutoModel.from_pretrained(args.encoder_name)\n",
        "\n",
        "def tokenizing_input(texts, tokenizer, maxlen=50):\n",
        "    result = tokenizer.batch_encode_plus(\n",
        "            texts, \n",
        "          return_attention_mask=True, \n",
        "        return_token_type_ids=False,\n",
        "        padding='longest', \n",
        "        max_length=maxlen)\n",
        "    return result['input_ids'], result['attention_mask']"
      ]
    },
    {
      "cell_type": "code",
      "execution_count": 14,
      "metadata": {
        "id": "i5C-tDBL-xxf"
      },
      "outputs": [],
      "source": [
        "class ZipDataset(Dataset):\n",
        "  def __init__(self, datasets):\n",
        "    super(ZipDataset, self).__init__()\n",
        "    self.keys = list(datasets.keys())\n",
        "    self.values = list(datasets.values()) \n",
        "    self.datasets = datasets\n",
        "    assert all([len(self.values[0]) == len(v) for v in self.values])\n",
        "\n",
        "  def __len__(self):\n",
        "    return len(self.values[0])\n",
        "  \n",
        "  def __getitem__(self, idx):\n",
        "    item = {}\n",
        "    for k, v in self.datasets.items():\n",
        "      item[k] = v[idx]\n",
        "    return item\n",
        "\n",
        "def generate_dataset(args, tokenizer):\n",
        "  Dtr = pd.read_csv(args.train_dataset_path)\n",
        "  X = Dtr['text'].to_numpy()\n",
        "  y = Dtr[list(args.emotions)].to_numpy()\n",
        "\n",
        "  Xtr, Xval, ytr, yval = train_test_split(X, y, \n",
        "                                          test_size=args.validation_split_from_train, \n",
        "                                          shuffle=False)\n",
        "\n",
        "  Xtr_tk, Xtr_mask= tokenizing_input(Xtr.tolist(), tokenizer, \n",
        "                                     maxlen=args.sentence_max_len)\n",
        "  Xval_tk, Xval_mask = tokenizing_input(Xval.tolist(), tokenizer, \n",
        "                                        maxlen=args.sentence_max_len)\n",
        "\n",
        "  train_dataset = ZipDataset({\n",
        "      'input_ids': Tensor(Xtr_tk).type(torch.int32), \n",
        "      'attention_mask': Tensor(Xtr_mask).type(torch.int32), \n",
        "      'y_true': Tensor(ytr).type(torch.float32)\n",
        "  })\n",
        "\n",
        "  val_dataset = ZipDataset({\n",
        "      'input_ids': Tensor(Xval_tk).type(torch.int32), \n",
        "      'attention_mask': Tensor(Xval_mask).type(torch.int32), \n",
        "      'y_true': Tensor(yval).type(torch.float32)\n",
        "  })\n",
        "\n",
        "  return train_dataset, val_dataset"
      ]
    },
    {
      "cell_type": "code",
      "execution_count": 15,
      "metadata": {
        "colab": {
          "base_uri": "https://localhost:8080/"
        },
        "id": "K_WSKqmgzc1M",
        "outputId": "0e18d8fc-68f2-4d5b-b79e-0d9e6ad9f50b"
      },
      "outputs": [
        {
          "name": "stdout",
          "output_type": "stream",
          "text": [
            "Wall time: 7.06 s\n"
          ]
        }
      ],
      "source": [
        "%%time\n",
        "train_dataset, val_dataset = generate_dataset(args, tokenizer)"
      ]
    },
    {
      "cell_type": "code",
      "execution_count": 16,
      "metadata": {
        "id": "hMmjh5xS_xG9"
      },
      "outputs": [],
      "source": [
        "def compute_classification_metrics(y_true, proba, threshold):\n",
        "  assert len(y_true) == len(proba), 'y_true and y_pred length mismatch {} {}'.format(len(preds), len(labels))\n",
        "\n",
        "  results = {}\n",
        "  y_true = y_true.astype(int)\n",
        "  y_pred = (proba >= threshold).astype(int)\n",
        "\n",
        "  results[\"accuracy\"] = (y_true == y_pred).mean()\n",
        "  if (np.unique(y_true) == 1).sum() == 0:\n",
        "    results[\"auc_roc_macro\"] = roc_auc_score(y_true, proba, average='macro')\n",
        "    results[\"auc_roc_micro\"] = roc_auc_score(y_true, proba, average='micro')\n",
        "  results[\"macro_precision\"], results[\"macro_recall\"], results[\"macro_f1\"], _ = precision_recall_fscore_support(y_true, y_pred, average=\"macro\")\n",
        "  results[\"micro_precision\"], results[\"micro_recall\"], results[\"micro_f1\"], _ = precision_recall_fscore_support(y_true, y_pred, average=\"micro\")\n",
        "  results[\"weighted_precision\"], results[\"weighted_recall\"], results[\"weighted_f1\"], _ = precision_recall_fscore_support(y_true, y_pred, average=\"weighted\")\n",
        "\n",
        "  return results"
      ]
    },
    {
      "cell_type": "code",
      "execution_count": 20,
      "metadata": {
        "id": "AA5TgjDEMkgl"
      },
      "outputs": [],
      "source": [
        "class GoEmotionClassiferWithGRU(torch.nn.Module):\n",
        "  def __init__(self, \n",
        "               encoder,\n",
        "               encoder_dim=128, \n",
        "               seq_len=82,\n",
        "               rnn_hidden = 50,  \n",
        "               rnn_num_layers = 1,\n",
        "               bidirectional=True, \n",
        "               hiddens = None,\n",
        "               dropout_p=0.1, \n",
        "               n_cls:int = 28, \n",
        "               criterion = torch.nn.BCEWithLogitsLoss()\n",
        "               ):\n",
        "    super(GoEmotionClassiferWithGRU, self).__init__()\n",
        "\n",
        "    self.encoder_dim = encoder_dim\n",
        "    self.rnn_hidden = rnn_hidden\n",
        "    self.rnn_num_layers = rnn_num_layers\n",
        "    self.seq_len = seq_len\n",
        "    self.bidirectional = bidirectional\n",
        "    self.hiddens = [100] if hiddens is None else hiddens \n",
        "    self.dropout_p = dropout_p \n",
        "    self.n_cls = n_cls\n",
        "    self.criterion = criterion\n",
        "\n",
        "    # layers\n",
        "    self.encoder = encoder\n",
        "    self.gru = torch.nn.GRU(\n",
        "        input_size= encoder_dim, \n",
        "        hidden_size = rnn_hidden, \n",
        "        batch_first = True, \n",
        "        bidirectional = bidirectional\n",
        "    )\n",
        "    self.dropout = torch.nn.Dropout(dropout_p)\n",
        "\n",
        "    # full connected\n",
        "    fcs = []\n",
        "    in_feature = (int(bidirectional) + 1) * rnn_hidden\n",
        "    for h in self.hiddens:\n",
        "      fcs.append(torch.nn.Linear(in_feature, h))\n",
        "      fcs.append(torch.nn.ReLU())\n",
        "      in_feature = h    \n",
        "    fcs.append(torch.nn.Linear(in_feature, n_cls))\n",
        "    self.fcs = torch.nn.Sequential(*fcs)\n",
        "\n",
        "  def forward(self, X_tk, X_mask, y_true=None):\n",
        "    encoder_output = self.encoder(X_tk, X_mask)\n",
        "    contextual_emb = encoder_output['last_hidden_state'] # contextual embedding\n",
        "    output, _ = self.gru(contextual_emb)\n",
        "    output = output[:, -1, :]\n",
        "    z = self.dropout(output) \n",
        "    logits = self.fcs(z)\n",
        "\n",
        "    if not (y_true is None):\n",
        "      loss = self.criterion(logits, y_true)\n",
        "      return (loss, logits)\n",
        "    return logits\n",
        "\n",
        "  def save_pretrained(self, path):\n",
        "    encoder_path = os.path.join(path, 'encoder')\n",
        "    pt_path = os.path.join(path, 'model.pt')\n",
        "    encoder = self.encoder\n",
        "    encoder.save_pretrained(encoder_path)\n",
        "    self.encoder = None\n",
        "    torch.save({\n",
        "        'model': self.state_dict(), \n",
        "        'config': {\n",
        "            'encoder': encoder.config.to_dict(), \n",
        "            'criterion': self.criterion.__class__.__name__, \n",
        "            'architecture': str(self), \n",
        "            'rnn_hidden': self.rnn_hidden,\n",
        "            'rnn_num_layers': self.rnn_num_layers,\n",
        "            'seq_len': self.seq_len,\n",
        "            'bidirectional': self.bidirectional,\n",
        "            'hiddens': self.hiddens, \n",
        "            'dropout_p': self.dropout_p, \n",
        "            'n_cls': self.n_cls\n",
        "        }\n",
        "    }, pt_path)\n",
        "    self.encoder = encoder\n",
        "    return\n",
        "\n",
        "  @classmethod\n",
        "  def from_pretrained(cls, path):\n",
        "    pt_path = os.path.join(path, 'model.pt')\n",
        "    encoder_path = os.path.join(path, 'encoder')\n",
        "    saved_model = torch.load(pt_path, map_location=torch.device('cpu'))\n",
        "    encoder = AutoModel.from_pretrained(encoder_path)\n",
        "    model = cls(\n",
        "        encoder=None,\n",
        "        encoder_dim = saved_model['config']['encoder']['hidden_size'], \n",
        "        seq_len = saved_model['config']['seq_len'],\n",
        "        rnn_hidden = saved_model['config']['rnn_hidden'],  \n",
        "        rnn_num_layers = saved_model['config']['rnn_num_layers'],\n",
        "        bidirectional= saved_model['config']['bidirectional'], \n",
        "        hiddens = saved_model['config']['hiddens'],\n",
        "        dropout_p = saved_model['config']['dropout_p'],\n",
        "        n_cls = saved_model['config']['n_cls'],\n",
        "        criterion = getattr(torch.nn, saved_model['config']['criterion'])()\n",
        "    )\n",
        "    model.load_state_dict(saved_model['model'])\n",
        "    model.encoder = encoder\n",
        "    return model \n",
        "\n",
        "class GoEmotionClassifer(torch.nn.Module):\n",
        "  def __init__(self, \n",
        "               encoder,\n",
        "               encoder_dim=128, \n",
        "               hiddens = None,\n",
        "               dropout_p=0.1, \n",
        "               n_cls:int = 28, \n",
        "               criterion = torch.nn.BCEWithLogitsLoss()\n",
        "               ):\n",
        "    super(GoEmotionClassifer, self).__init__()\n",
        "\n",
        "    self.encoder_dim = encoder_dim\n",
        "    self.hiddens = [100] if hiddens is None else hiddens \n",
        "    self.dropout_p = dropout_p \n",
        "    self.n_cls = n_cls\n",
        "    self.criterion = criterion\n",
        "\n",
        "    # layers\n",
        "    self.encoder = encoder\n",
        "    self.dropout = torch.nn.Dropout(dropout_p)\n",
        "\n",
        "    # full connected\n",
        "    fcs = []\n",
        "    in_feature = encoder_dim \n",
        "    for h in self.hiddens:\n",
        "      fcs.append(torch.nn.Linear(in_feature, h))\n",
        "      fcs.append(torch.nn.ReLU())\n",
        "      in_feature = h    \n",
        "    fcs.append(torch.nn.Linear(in_feature, n_cls))\n",
        "    self.fcs = torch.nn.Sequential(*fcs)\n",
        "\n",
        "  def forward(self, X_tk, X_mask, y_true=None):\n",
        "    encoder_output = self.encoder(X_tk, X_mask) # contextual embedding\n",
        "    pooled_output = encoder_output['pooler_output'] \n",
        "    z = self.dropout(pooled_output) \n",
        "    logits = self.fcs(z)\n",
        "\n",
        "    if not (y_true is None):\n",
        "      loss = self.criterion(logits, y_true)\n",
        "      return (loss, logits)\n",
        "    return logits\n",
        "\n",
        "  def save_pretrained(self, path):\n",
        "    encoder_path = os.path.join(path, 'encoder')\n",
        "    pt_path = os.path.join(path, 'model.pt')\n",
        "    encoder = self.encoder\n",
        "    encoder.save_pretrained(encoder_path)\n",
        "    self.encoder = None\n",
        "    torch.save({\n",
        "        'model': self.state_dict(), \n",
        "        'config': {\n",
        "            'encoder': encoder.config.to_dict(), \n",
        "            'criterion': self.criterion.__class__.__name__, \n",
        "            'architecture': str(self), \n",
        "            'hiddens': self.hiddens, \n",
        "            'dropout_p': self.dropout_p, \n",
        "            'n_cls': self.n_cls\n",
        "        }\n",
        "    }, pt_path)\n",
        "    self.encoder = encoder\n",
        "    return\n",
        "\n",
        "  @classmethod\n",
        "  def from_pretrained(cls, path):\n",
        "    pt_path = os.path.join(path, 'model.pt')\n",
        "    encoder_path = os.path.join(path, 'encoder')\n",
        "    saved_model = torch.load(pt_path, map_location=torch.device('cpu'))\n",
        "    encoder = AutoModel.from_pretrained(encoder_path)\n",
        "    model = cls(\n",
        "        encoder=None,\n",
        "        encoder_dim = saved_model['config']['encoder']['hidden_size'], \n",
        "        hiddens = saved_model['config']['hiddens'],\n",
        "        dropout_p = saved_model['config']['dropout_p'],\n",
        "        n_cls = saved_model['config']['n_cls'],\n",
        "        criterion = getattr(torch.nn, saved_model['config']['criterion'])()\n",
        "    )\n",
        "    model.load_state_dict(saved_model['model'])\n",
        "    model.encoder = encoder\n",
        "    return model \n"
      ]
    },
    {
      "cell_type": "code",
      "execution_count": 21,
      "metadata": {
        "id": "PmYLFsL929A4"
      },
      "outputs": [],
      "source": [
        "def proba_on_examples(X, model, tokenizer=None):\n",
        "  if tokenizer is not None:\n",
        "    X_tk, X_mask = tokenizing_input(X, tokenizer)\n",
        "    X_tk = torch.Tensor(X_tk).type(torch.int32)\n",
        "    X_mask = torch.Tensor(X_mask).type(torch.int32)\n",
        "  else:\n",
        "    X_tk, X_mask = X['input_ids'], X['attention_mask']\n",
        "\n",
        "  with torch.no_grad():\n",
        "    logits = model(X_tk, X_mask).numpy()\n",
        "    proba = 1 / (1 + np.exp(-logits))\n",
        "    \n",
        "  return proba\n",
        "\n",
        "def proba_to_emotion(proba, threshold, emotions):\n",
        "  assert proba.shape[-1] == len(emotions), 'emotions and proba mismatch {} vs {}'.format(len(emotions), proba.shape[-1])\n",
        "  emotions = np.array(emotions)\n",
        "  return [tuple(emotions[p >= threshold]) for p in proba]"
      ]
    },
    {
      "cell_type": "code",
      "execution_count": 22,
      "metadata": {
        "colab": {
          "base_uri": "https://localhost:8080/"
        },
        "id": "zsm5Poq_D0Z2",
        "outputId": "4cfe2a88-f73e-4b5c-d6a7-2d99b4eebb38"
      },
      "outputs": [
        {
          "data": {
            "text/plain": [
              "[('amusement',\n",
              "  'approval',\n",
              "  'caring',\n",
              "  'curiosity',\n",
              "  'disappointment',\n",
              "  'disapproval',\n",
              "  'embarrassment',\n",
              "  'gratitude',\n",
              "  'grief',\n",
              "  'remorse',\n",
              "  'sadness',\n",
              "  'surprise'),\n",
              " ('amusement',\n",
              "  'approval',\n",
              "  'caring',\n",
              "  'curiosity',\n",
              "  'desire',\n",
              "  'disappointment',\n",
              "  'disapproval',\n",
              "  'embarrassment',\n",
              "  'gratitude',\n",
              "  'grief',\n",
              "  'remorse',\n",
              "  'sadness',\n",
              "  'surprise')]"
            ]
          },
          "execution_count": 22,
          "metadata": {},
          "output_type": "execute_result"
        }
      ],
      "source": [
        "def create_model_from_config(args, encoder):\n",
        "  return GoEmotionClassifer(\n",
        "    encoder, \n",
        "    encoder_dim = args.encoder_dim, \n",
        "    hiddens = args.fc_hiddens, \n",
        "    dropout_p = args.dropout_p, \n",
        "    n_cls = len(args.emotions)\n",
        "  )\n",
        "\n",
        "def create_rnn_model_from_config(args, encoder):\n",
        "  return GoEmotionClassiferWithGRU(\n",
        "      encoder, \n",
        "      encoder_dim = args.encoder_dim, \n",
        "      seq_len = args.seq_len, \n",
        "      rnn_hidden = args.rnn_hidden, \n",
        "      rnn_num_layers = args.rnn_num_layers,\n",
        "      bidirectional = args.bidirectional, \n",
        "      hiddens = args.fc_hiddens, \n",
        "      dropout_p = args.dropout_p, \n",
        "      n_cls = len(args.emotions)\n",
        "  )\n",
        "\n",
        "test_args = args.copy()\n",
        "test_args['seq_len'] = 82\n",
        "test_args['rnn_hidden'] = 50\n",
        "test_args['rnn_num_layers'] = 1\n",
        "test_args['bidirectional'] = True\n",
        "test_args['hiddens'] = [50, 50]\n",
        "test_args = AttrDict(test_args)\n",
        "# model = create_model_from_config(args, encoder)\n",
        "model = create_rnn_model_from_config(test_args, encoder)\n",
        "proba = proba_on_examples(['hello my name is jeongwon', 'its me jeongwon'],  model, tokenizer)\n",
        "proba_to_emotion(proba, args.classification_threshold, emotions=args.emotions)"
      ]
    },
    {
      "cell_type": "code",
      "execution_count": 23,
      "metadata": {
        "colab": {
          "base_uri": "https://localhost:8080/"
        },
        "id": "JPJa_quWJ0DI",
        "outputId": "a1fd619c-64e1-4436-b29d-cbfaf3c9114b"
      },
      "outputs": [
        {
          "name": "stderr",
          "output_type": "stream",
          "text": [
            "C:\\Users\\dumps\\AppData\\Roaming\\Python\\Python39\\site-packages\\sklearn\\metrics\\_classification.py:1308: UndefinedMetricWarning: Recall and F-score are ill-defined and being set to 0.0 in labels with no true samples. Use `zero_division` parameter to control this behavior.\n",
            "  _warn_prf(average, modifier, msg_start, len(result))\n",
            "C:\\Users\\dumps\\AppData\\Roaming\\Python\\Python39\\site-packages\\sklearn\\metrics\\_classification.py:1308: UndefinedMetricWarning: Recall and F-score are ill-defined and being set to 0.0 in labels with no true samples. Use `zero_division` parameter to control this behavior.\n",
            "  _warn_prf(average, modifier, msg_start, len(result))\n"
          ]
        },
        {
          "data": {
            "text/plain": [
              "{'accuracy': 0.044444444444444446,\n",
              " 'macro_precision': 0.044444444444444446,\n",
              " 'macro_recall': 0.14814814814814814,\n",
              " 'macro_f1': 0.0670194003527337,\n",
              " 'micro_precision': 0.044444444444444446,\n",
              " 'micro_recall': 1.0,\n",
              " 'micro_f1': 0.0851063829787234,\n",
              " 'weighted_precision': 0.3333333333333333,\n",
              " 'weighted_recall': 1.0,\n",
              " 'weighted_f1': 0.49206349206349215}"
            ]
          },
          "execution_count": 23,
          "metadata": {},
          "output_type": "execute_result"
        }
      ],
      "source": [
        "proba = proba_on_examples(val_dataset[:5], model)\n",
        "y_true = val_dataset[:5]['y_true'].numpy()\n",
        "compute_classification_metrics(y_true, proba, 0.1)"
      ]
    },
    {
      "cell_type": "code",
      "execution_count": 24,
      "metadata": {
        "id": "sfIG2HZH1X37"
      },
      "outputs": [],
      "source": [
        "def evaluate(model, \n",
        "             dataset, \n",
        "             batch_size=16, \n",
        "             threshold=0.5,\n",
        "             device='cpu', back_to_cpu=True):\n",
        "  eval_dataloader = DataLoader(\n",
        "      dataset, \n",
        "      batch_size=batch_size, \n",
        "  )\n",
        "\n",
        "  n_batch = 0\n",
        "  total_loss = 0.0\n",
        "  y_true = []\n",
        "  proba = []\n",
        "\n",
        "  model.to(device)\n",
        "\n",
        "  for batch in tqdm(eval_dataloader, desc='evaluation', leave=False):\n",
        "    model.eval()\n",
        "    batch = { k:v.to(device) for k, v in batch.items() }\n",
        "\n",
        "    with torch.no_grad():\n",
        "      loss_per_batch, logits = model(batch['input_ids'], \n",
        "                               batch['attention_mask'], \n",
        "                               batch['y_true'])\n",
        "      total_loss += loss_per_batch.item()\n",
        "\n",
        "      logits = logits.cpu().detach().numpy()\n",
        "\n",
        "    p = 1 / (1 + np.exp(-logits))\n",
        "    proba.append(p)\n",
        "    y_true.append(batch['y_true'].cpu().detach().numpy())\n",
        "\n",
        "    n_batch += 1\n",
        "\n",
        "  if back_to_cpu:\n",
        "    model.cpu()\n",
        "\n",
        "  proba = np.vstack(proba)\n",
        "  y_true = np.vstack(y_true)\n",
        "  results = {\n",
        "      'loss': total_loss / n_batch, \n",
        "      'trigger_rate': (proba >= threshold).mean(), \n",
        "      **compute_classification_metrics(y_true, proba, threshold)\n",
        "  }\n",
        "\n",
        "  return results"
      ]
    },
    {
      "cell_type": "code",
      "execution_count": 21,
      "metadata": {
        "colab": {
          "base_uri": "https://localhost:8080/"
        },
        "id": "3WtKhHAYXLG6",
        "outputId": "44940168-829f-46b0-adc8-4df8b0045cc2"
      },
      "outputs": [
        {
          "name": "stderr",
          "output_type": "stream",
          "text": [
            "C:\\Users\\dumps\\AppData\\Roaming\\Python\\Python39\\site-packages\\sklearn\\metrics\\_classification.py:1308: UndefinedMetricWarning: Precision and F-score are ill-defined and being set to 0.0 in labels with no predicted samples. Use `zero_division` parameter to control this behavior.\n",
            "  _warn_prf(average, modifier, msg_start, len(result))\n",
            "C:\\Users\\dumps\\AppData\\Roaming\\Python\\Python39\\site-packages\\sklearn\\metrics\\_classification.py:1308: UndefinedMetricWarning: Precision and F-score are ill-defined and being set to 0.0 in labels with no predicted samples. Use `zero_division` parameter to control this behavior.\n",
            "  _warn_prf(average, modifier, msg_start, len(result))\n"
          ]
        },
        {
          "data": {
            "text/plain": [
              "{'loss': 0.6957503297069595,\n",
              " 'trigger_rate': 0.4488762007099916,\n",
              " 'accuracy': 0.5494345716449556,\n",
              " 'macro_precision': 0.03751222110651815,\n",
              " 'macro_recall': 0.4515383851132274,\n",
              " 'macro_f1': 0.05788837281625718,\n",
              " 'micro_precision': 0.05042332192753486,\n",
              " 'micro_recall': 0.4820129933094153,\n",
              " 'micro_f1': 0.09129616308789543,\n",
              " 'weighted_precision': 0.053205492346381784,\n",
              " 'weighted_recall': 0.4820129933094153,\n",
              " 'weighted_f1': 0.08328313484048709}"
            ]
          },
          "execution_count": 21,
          "metadata": {},
          "output_type": "execute_result"
        }
      ],
      "source": [
        "evaluate(\n",
        "    model, \n",
        "    val_dataset, \n",
        "    batch_size = args.eval_batch_size, \n",
        "    threshold = args.classification_threshold, \n",
        "    device = args.device\n",
        ")"
      ]
    },
    {
      "cell_type": "code",
      "execution_count": 99,
      "metadata": {
        "id": "HMP-qnZ-SMGE"
      },
      "outputs": [],
      "source": [
        "def train_step(\n",
        "    model, \n",
        "    scheduler,\n",
        "    batch, \n",
        "    optimizer, \n",
        "    grad_clip_max=1\n",
        "):\n",
        "  model.train()\n",
        "\n",
        "  loss, logits = model(batch['input_ids'], \n",
        "                            batch['attention_mask'], \n",
        "                            batch['y_true'])\n",
        "  loss.backward()\n",
        "\n",
        "  if grad_clip_max is not None:\n",
        "    torch.nn.utils.clip_grad_norm_(model.parameters(), grad_clip_max)\n",
        "\n",
        "  optimizer.step()\n",
        "  scheduler.step()\n",
        "  model.zero_grad()\n",
        "\n",
        "  return loss.detach().item(), logits\n",
        "\n",
        "\n",
        "def save_checkpoint(\n",
        "    model, \n",
        "    archive_dir, \n",
        "    model_name, \n",
        "    checkpoint_id=\"?\", \n",
        "    metadata=None,\n",
        "    tokenizer=None, \n",
        "    optimizer=None, \n",
        "    scheduler=None,\n",
        "):\n",
        "  # create archive folder\n",
        "  archive_path = os.path.join(archive_dir, model_name)\n",
        "  if not os.path.exists(archive_path):\n",
        "    os.makedirs(archive_path, exist_ok=True)\n",
        "\n",
        "  # create checkpoint folder\n",
        "  checkpoint_dir = os.path.join(archive_path, 'checkpoint-%s' % str(checkpoint_id))\n",
        "  os.makedirs(checkpoint_dir, exist_ok=True)\n",
        "\n",
        "  # save model in checkpoint\n",
        "  model_to_save = (model.module if hasattr(model, \"module\") else model)\n",
        "  model_to_save.save_pretrained(checkpoint_dir)\n",
        "  if tokenizer is not None:\n",
        "    tokenizer.save_pretrained(checkpoint_dir)\n",
        "  if metadata:\n",
        "    torch.save(metadata, os.path.join(checkpoint_dir, \"meta.bin\"))\n",
        "  if scheduler is not None:\n",
        "    torch.save(scheduler.state_dict(), os.path.join(checkpoint_dir, 'scheduler.pt'))\n",
        "  if optimizer is not None:\n",
        "    torch.save(optimizer.state_dict(), os.path.join(checkpoint_dir, 'optimizer.pt'))\n",
        "\n",
        "  return archive_path\n",
        "\n",
        "def load_from_checkpoint(\n",
        "    archive_dir, \n",
        "    model_name, \n",
        "    checkpoint_id=\"?\", \n",
        "    load_tokenizer=False, \n",
        "    load_metadata=True, \n",
        "    load_optimizer=False, \n",
        "    cls = GoEmotionClassifer\n",
        "):\n",
        "  archive_path = os.path.join(archive_dir, model_name)\n",
        "  checkpoint_dir = os.path.join(archive_path, 'checkpoint-%s' % str(checkpoint_id))\n",
        "\n",
        "  assert os.path.exists(archive_path), archive_path\n",
        "  assert os.path.exists(checkpoint_dir), checkpoint_dir\n",
        "\n",
        "  model = getattr(cls, 'from_pretrained')(\n",
        "      checkpoint_dir\n",
        "  )\n",
        "\n",
        "  output = (model, )\n",
        "  if load_tokenizer:\n",
        "    tokenizer = AutoTokenizer.from_pretrained(checkpoint_dir)\n",
        "    output += (tokenizer, )\n",
        "\n",
        "  if load_metadata or load_optimizer:\n",
        "    metadata = torch.load(os.path.join(checkpoint_dir, 'meta.bin'))\n",
        "    if load_metadata:\n",
        "      output += (metadata, )\n",
        "\n",
        "  if load_optimizer:\n",
        "      grouped_parameters = [{'params': [param for name, param in model.named_parameters() \\\n",
        "                                          if not any(nd in name for nd in ('bias', 'LayerNorm.weight'))]}, \n",
        "                            {'params': [param for name, param in model.named_parameters() \\\n",
        "                                        if any(nd in name for nd in ('bias', 'LayerNorm.weight'))]}]\n",
        "\n",
        "      optimizer = AdamW(grouped_parameters, \n",
        "                    lr=metadata['learning_rate'], \n",
        "                    weight_decay=metadata['weight_decay']) \n",
        "      \n",
        "      scheduler = get_linear_schedule_with_warmup(\n",
        "          optimizer,\n",
        "          num_warmup_steps=int(metadata['train_max_step'] * metadata['warmup_ratio']),\n",
        "          num_training_steps=metadata['train_max_step']\n",
        "      )\n",
        "      optimizer.load_state_dict(torch.load(os.path.join(checkpoint_dir, 'optimizer.pt')))\n",
        "      scheduler.load_state_dict(torch.load(os.path.join(checkpoint_dir, 'scheduler.pt')))\n",
        "\n",
        "      output += (optimizer, scheduler)\n",
        "  return output\n",
        "\n",
        "\n",
        "def train(\n",
        "    model, \n",
        "    train_dataset, \n",
        "    val_dataset, \n",
        "    metadata=None,\n",
        "    tokenizer = None, \n",
        "    epochs = 5,\n",
        "    train_batch_size = 16, \n",
        "    val_batch_size = 16, \n",
        "    save_steps = 1e3, \n",
        "    validation_steps = 1e3, \n",
        "    archive_dir = None,\n",
        "    model_name = 'model', # model & archive saved in archive_dir/model_name/..\n",
        "    classification_threshold=0.5, \n",
        "    learning_rate = 1e-3, \n",
        "    grad_clip_max = 1, \n",
        "    weight_decay = 1e-5, \n",
        "    warmup_ratio=0.1,\n",
        "    logging_metrics=None,\n",
        "    clear_archive=False, \n",
        "    optimizer=None, \n",
        "    scheduler=None, \n",
        "    continue_training=False,\n",
        "    device = 'cpu'\n",
        "):\n",
        "  if torch.cuda.is_available():\n",
        "    torch.cuda.empty_cache()\n",
        "\n",
        "  if clear_archive:\n",
        "    archive_path = os.path.join(archive_dir, model_name)\n",
        "    shutil.rmtree(archive_path)\n",
        "    os.makedirs(archive_path)\n",
        "\n",
        "  # no weight decay on LayerNorm and bias\n",
        "  grouped_parameters = [\n",
        "    {'params': [param for name, param in model.named_parameters() \\\n",
        "               if not any(nd in name for nd in ('bias', 'LayerNorm.weight'))]}, \n",
        "    {'params': [param for name, param in model.named_parameters() \\\n",
        "               if any(nd in name for nd in ('bias', 'LayerNorm.weight'))]}\n",
        "  ]\n",
        "\n",
        "  train_dataloader = DataLoader(train_dataset, batch_size=train_batch_size)  \n",
        "  max_step = len(train_dataset) * epochs\n",
        "  metadata['train_max_step'] = max_step\n",
        "\n",
        "  if not continue_training:\n",
        "    # use default b1, b2, eps\n",
        "    optimizer = AdamW(grouped_parameters, \n",
        "                      lr=learning_rate, \n",
        "                      weight_decay=weight_decay) \n",
        "    scheduler = get_linear_schedule_with_warmup(\n",
        "        optimizer,\n",
        "        num_warmup_steps=int(max_step * warmup_ratio),\n",
        "        num_training_steps=max_step\n",
        "    )\n",
        "  else:\n",
        "    assert optimizer is not None\n",
        "    assert scheduler is not None\n",
        "\n",
        "  print('hello')\n",
        "\n",
        "  total_steps = metadata['total_steps'] if continue_training else 0\n",
        "  tr_loss = metadata['tr_loss'] * total_steps if continue_training else 0.0\n",
        "\n",
        "  model.zero_grad() \n",
        "  model.to(device)\n",
        "\n",
        "  save_checkpoint(model, archive_dir, model_name, \n",
        "                  checkpoint_id='null-model', \n",
        "                  metadata=metadata,\n",
        "                  tokenizer=tokenizer, \n",
        "                  optimizer=optimizer, \n",
        "                  scheduler=scheduler)\n",
        "\n",
        "  for epoch in range(epochs):\n",
        "    print('training epoch %d' % epoch)\n",
        "    for batch in tqdm(train_dataloader, desc=\"Training\", leave=None):\n",
        "      batch = { k:v.to(device) for k, v in batch.items() }\n",
        "      step_loss, logits = train_step(model, scheduler, batch, optimizer, grad_clip_max)\n",
        "\n",
        "      tr_loss += step_loss\n",
        "      total_steps += 1 \n",
        "      \n",
        "      metadata['tr_loss'] = tr_loss / total_steps\n",
        "\n",
        "      if total_steps > 0 and (total_steps % validation_steps == 0 or \\\n",
        "                              total_steps % save_steps == 0):\n",
        "        result = evaluate(model, val_dataset, val_batch_size, \n",
        "                          classification_threshold, device=device, \n",
        "                          back_to_cpu=False)\n",
        "        metadata['val_metrics'] = result\n",
        "\n",
        "        print('evaluating at step %d' % total_steps)\n",
        "        if logging_metrics is not None:\n",
        "          print({ k: v for k, v in result.items() if k in logging_metrics})\n",
        "\n",
        "      if total_steps > 0 and total_steps % save_steps == 0:\n",
        "        print('saving at step %d' % total_steps)\n",
        "        metadata['total_steps'] = total_steps\n",
        "        save_checkpoint(model, archive_dir, model_name, \n",
        "                        optimizer=optimizer, \n",
        "                        scheduler=scheduler, \n",
        "                        checkpoint_id=total_steps, \n",
        "                        metadata=metadata)\n",
        "  model.cpu()\n",
        "  return model, metadata"
      ]
    },
    {
      "cell_type": "code",
      "execution_count": 92,
      "metadata": {
        "id": "nKLK6W4wMdir"
      },
      "outputs": [],
      "source": [
        "# model, optimizer, scheduler, metadata = load_from_checkpoint(\n",
        "#     output_dir, \n",
        "#     'go-emotion-tiny', \n",
        "#     checkpoint_id='450000', \n",
        "#     load_optimizer=True, \n",
        "# )\n",
        "# model = train(\n",
        "#     model, \n",
        "#     train_dataset, \n",
        "#     val_dataset, \n",
        "#     metadata=metadata,  # dict(args)\n",
        "#     tokenizer = tokenizer, \n",
        "#     epochs = args.train_epochs, \n",
        "#     train_batch_size = args.train_batch_size, \n",
        "#     val_batch_size = args.eval_batch_size, \n",
        "#     save_steps = args.save_steps, \n",
        "#     validation_steps= args.validation_steps, \n",
        "#     archive_dir = output_dir, \n",
        "#     model_name = 'go-emotion-tiny', \n",
        "#     classification_threshold = args.classification_threshold, \n",
        "#     learning_rate = args.learning_rate, \n",
        "#     grad_clip_max = args.grad_clip_max, \n",
        "#     weight_decay = args.weight_decay, \n",
        "#     warmup_ratio = args.warmup_ratio, \n",
        "#     clear_archive=False,\n",
        "#     logging_metrics= ['macro_f1', 'macro_precision', 'macro_recall'],\n",
        "#     continue_training=True,\n",
        "#     optimizer=optimizer, \n",
        "#     scheduler=scheduler,\n",
        "#     device = args.device\n",
        "# )"
      ]
    },
    {
      "cell_type": "code",
      "execution_count": 93,
      "metadata": {},
      "outputs": [
        {
          "data": {
            "text/plain": [
              "97609"
            ]
          },
          "execution_count": 93,
          "metadata": {},
          "output_type": "execute_result"
        }
      ],
      "source": [
        "len(train_dataset) "
      ]
    },
    {
      "cell_type": "code",
      "execution_count": 103,
      "metadata": {
        "id": "1x4ROMXa-TNs"
      },
      "outputs": [],
      "source": [
        "args = args.copy()\n",
        "args['model_name'] = 'go-emotion-tiny-gru'\n",
        "args['seq_len'] = 82\n",
        "args['rnn_hidden'] = 50\n",
        "args['rnn_num_layers'] = 1\n",
        "args['bidirectional'] = True\n",
        "args['hiddens'] = [50, 50],\n",
        "args['validation_steps'] =  int(len(train_dataset) // (16))\n",
        "args['save_steps'] = int(len(train_dataset) // (16))\n",
        "args['train_batch_size'] = 32\n",
        "args['eval_batch_size'] = 32\n",
        "args['weight_decay'] = 1e-3\n",
        "args['train_epochs'] = 20\n",
        "args = AttrDict(args)"
      ]
    },
    {
      "cell_type": "code",
      "execution_count": 104,
      "metadata": {
        "colab": {
          "base_uri": "https://localhost:8080/"
        },
        "id": "pPHrLZaVbfu3",
        "outputId": "54b24a05-507c-4273-ea0a-071a9fc0c3a2"
      },
      "outputs": [
        {
          "name": "stderr",
          "output_type": "stream",
          "text": [
            "C:\\Users\\dumps\\anaconda3\\envs\\emotion-detection\\lib\\site-packages\\transformers\\optimization.py:306: FutureWarning: This implementation of AdamW is deprecated and will be removed in a future version. Use the PyTorch implementation torch.optim.AdamW instead, or set `no_deprecation_warning=True` to disable this warning\n",
            "  warnings.warn(\n"
          ]
        },
        {
          "name": "stdout",
          "output_type": "stream",
          "text": [
            "hello\n",
            "training epoch 0\n"
          ]
        },
        {
          "name": "stderr",
          "output_type": "stream",
          "text": [
            "Training: 100%|██████████| 3051/3051 [01:10<00:00, 43.47it/s]\n"
          ]
        },
        {
          "name": "stdout",
          "output_type": "stream",
          "text": [
            "training epoch 1\n"
          ]
        },
        {
          "name": "stderr",
          "output_type": "stream",
          "text": [
            "Training: 100%|█████████▉| 3045/3051 [01:09<00:00, 43.52it/s]C:\\Users\\dumps\\AppData\\Roaming\\Python\\Python39\\site-packages\\sklearn\\metrics\\_classification.py:1308: UndefinedMetricWarning: Precision and F-score are ill-defined and being set to 0.0 in labels with no predicted samples. Use `zero_division` parameter to control this behavior.\n",
            "  _warn_prf(average, modifier, msg_start, len(result))\n",
            "C:\\Users\\dumps\\AppData\\Roaming\\Python\\Python39\\site-packages\\sklearn\\metrics\\_classification.py:1308: UndefinedMetricWarning: Precision and F-score are ill-defined and being set to 0.0 in labels with no predicted samples. Use `zero_division` parameter to control this behavior.\n",
            "  _warn_prf(average, modifier, msg_start, len(result))\n",
            "Training: 100%|██████████| 3051/3051 [01:18<00:00, 38.93it/s]\n"
          ]
        },
        {
          "name": "stdout",
          "output_type": "stream",
          "text": [
            "evaluating at step 6100\n",
            "{'macro_precision': 0.00218400591305562, 'macro_recall': 0.07407407407407407, 'macro_f1': 0.004240610449022319}\n",
            "saving at step 6100\n",
            "training epoch 2\n"
          ]
        },
        {
          "name": "stderr",
          "output_type": "stream",
          "text": [
            "Training: 100%|██████████| 3051/3051 [01:10<00:00, 43.52it/s]\n"
          ]
        },
        {
          "name": "stdout",
          "output_type": "stream",
          "text": [
            "training epoch 3\n"
          ]
        },
        {
          "name": "stderr",
          "output_type": "stream",
          "text": [
            "Training: 100%|█████████▉| 3045/3051 [01:10<00:00, 43.75it/s]C:\\Users\\dumps\\AppData\\Roaming\\Python\\Python39\\site-packages\\sklearn\\metrics\\_classification.py:1308: UndefinedMetricWarning: Precision and F-score are ill-defined and being set to 0.0 in labels with no predicted samples. Use `zero_division` parameter to control this behavior.\n",
            "  _warn_prf(average, modifier, msg_start, len(result))\n",
            "C:\\Users\\dumps\\AppData\\Roaming\\Python\\Python39\\site-packages\\sklearn\\metrics\\_classification.py:1308: UndefinedMetricWarning: Precision and F-score are ill-defined and being set to 0.0 due to no predicted samples. Use `zero_division` parameter to control this behavior.\n",
            "  _warn_prf(average, modifier, msg_start, len(result))\n",
            "C:\\Users\\dumps\\AppData\\Roaming\\Python\\Python39\\site-packages\\sklearn\\metrics\\_classification.py:1308: UndefinedMetricWarning: Precision and F-score are ill-defined and being set to 0.0 in labels with no predicted samples. Use `zero_division` parameter to control this behavior.\n",
            "  _warn_prf(average, modifier, msg_start, len(result))\n",
            "Training: 100%|█████████▉| 3050/3051 [01:18<00:00,  1.93it/s]"
          ]
        },
        {
          "name": "stdout",
          "output_type": "stream",
          "text": [
            "evaluating at step 12200\n",
            "{'macro_precision': 0.0, 'macro_recall': 0.0, 'macro_f1': 0.0}\n",
            "saving at step 12200\n"
          ]
        },
        {
          "name": "stderr",
          "output_type": "stream",
          "text": [
            "Training: 100%|██████████| 3051/3051 [01:18<00:00, 38.92it/s]\n"
          ]
        },
        {
          "name": "stdout",
          "output_type": "stream",
          "text": [
            "training epoch 4\n"
          ]
        },
        {
          "name": "stderr",
          "output_type": "stream",
          "text": [
            "Training: 100%|██████████| 3051/3051 [01:10<00:00, 43.53it/s]\n"
          ]
        },
        {
          "name": "stdout",
          "output_type": "stream",
          "text": [
            "training epoch 5\n"
          ]
        },
        {
          "name": "stderr",
          "output_type": "stream",
          "text": [
            "Training: 100%|█████████▉| 3040/3051 [01:09<00:00, 43.54it/s]C:\\Users\\dumps\\AppData\\Roaming\\Python\\Python39\\site-packages\\sklearn\\metrics\\_classification.py:1308: UndefinedMetricWarning: Precision and F-score are ill-defined and being set to 0.0 in labels with no predicted samples. Use `zero_division` parameter to control this behavior.\n",
            "  _warn_prf(average, modifier, msg_start, len(result))\n",
            "C:\\Users\\dumps\\AppData\\Roaming\\Python\\Python39\\site-packages\\sklearn\\metrics\\_classification.py:1308: UndefinedMetricWarning: Precision and F-score are ill-defined and being set to 0.0 due to no predicted samples. Use `zero_division` parameter to control this behavior.\n",
            "  _warn_prf(average, modifier, msg_start, len(result))\n",
            "C:\\Users\\dumps\\AppData\\Roaming\\Python\\Python39\\site-packages\\sklearn\\metrics\\_classification.py:1308: UndefinedMetricWarning: Precision and F-score are ill-defined and being set to 0.0 in labels with no predicted samples. Use `zero_division` parameter to control this behavior.\n",
            "  _warn_prf(average, modifier, msg_start, len(result))\n",
            "Training: 100%|█████████▉| 3045/3051 [01:18<00:03,  1.94it/s]"
          ]
        },
        {
          "name": "stdout",
          "output_type": "stream",
          "text": [
            "evaluating at step 18300\n",
            "{'macro_precision': 0.0, 'macro_recall': 0.0, 'macro_f1': 0.0}\n",
            "saving at step 18300\n"
          ]
        },
        {
          "name": "stderr",
          "output_type": "stream",
          "text": [
            "Training: 100%|██████████| 3051/3051 [01:18<00:00, 39.01it/s]\n"
          ]
        },
        {
          "name": "stdout",
          "output_type": "stream",
          "text": [
            "training epoch 6\n"
          ]
        },
        {
          "name": "stderr",
          "output_type": "stream",
          "text": [
            "Training: 100%|██████████| 3051/3051 [01:10<00:00, 43.58it/s]\n"
          ]
        },
        {
          "name": "stdout",
          "output_type": "stream",
          "text": [
            "training epoch 7\n"
          ]
        },
        {
          "name": "stderr",
          "output_type": "stream",
          "text": [
            "Training: 100%|█████████▉| 3040/3051 [01:09<00:00, 43.55it/s]C:\\Users\\dumps\\AppData\\Roaming\\Python\\Python39\\site-packages\\sklearn\\metrics\\_classification.py:1308: UndefinedMetricWarning: Precision and F-score are ill-defined and being set to 0.0 in labels with no predicted samples. Use `zero_division` parameter to control this behavior.\n",
            "  _warn_prf(average, modifier, msg_start, len(result))\n",
            "C:\\Users\\dumps\\AppData\\Roaming\\Python\\Python39\\site-packages\\sklearn\\metrics\\_classification.py:1308: UndefinedMetricWarning: Precision and F-score are ill-defined and being set to 0.0 in labels with no predicted samples. Use `zero_division` parameter to control this behavior.\n",
            "  _warn_prf(average, modifier, msg_start, len(result))\n",
            "Training: 100%|█████████▉| 3045/3051 [01:18<00:03,  1.94it/s]"
          ]
        },
        {
          "name": "stdout",
          "output_type": "stream",
          "text": [
            "evaluating at step 24400\n",
            "{'macro_precision': 0.033123511799514345, 'macro_recall': 0.02797690163281561, 'macro_f1': 0.030333452076384167}\n",
            "saving at step 24400\n"
          ]
        },
        {
          "name": "stderr",
          "output_type": "stream",
          "text": [
            "Training: 100%|██████████| 3051/3051 [01:18<00:00, 38.99it/s]\n"
          ]
        },
        {
          "name": "stdout",
          "output_type": "stream",
          "text": [
            "training epoch 8\n"
          ]
        },
        {
          "name": "stderr",
          "output_type": "stream",
          "text": [
            "Training: 100%|██████████| 3051/3051 [01:10<00:00, 43.33it/s]\n"
          ]
        },
        {
          "name": "stdout",
          "output_type": "stream",
          "text": [
            "training epoch 9\n"
          ]
        },
        {
          "name": "stderr",
          "output_type": "stream",
          "text": [
            "Training: 100%|█████████▉| 3040/3051 [01:09<00:00, 43.75it/s]C:\\Users\\dumps\\AppData\\Roaming\\Python\\Python39\\site-packages\\sklearn\\metrics\\_classification.py:1308: UndefinedMetricWarning: Precision and F-score are ill-defined and being set to 0.0 in labels with no predicted samples. Use `zero_division` parameter to control this behavior.\n",
            "  _warn_prf(average, modifier, msg_start, len(result))\n",
            "C:\\Users\\dumps\\AppData\\Roaming\\Python\\Python39\\site-packages\\sklearn\\metrics\\_classification.py:1308: UndefinedMetricWarning: Precision and F-score are ill-defined and being set to 0.0 in labels with no predicted samples. Use `zero_division` parameter to control this behavior.\n",
            "  _warn_prf(average, modifier, msg_start, len(result))\n",
            "Training: 100%|█████████▉| 3045/3051 [01:18<00:03,  1.93it/s]"
          ]
        },
        {
          "name": "stdout",
          "output_type": "stream",
          "text": [
            "evaluating at step 30500\n",
            "{'macro_precision': 0.1344289564656881, 'macro_recall': 0.07217031279700058, 'macro_f1': 0.08735886667971202}\n",
            "saving at step 30500\n"
          ]
        },
        {
          "name": "stderr",
          "output_type": "stream",
          "text": [
            "Training: 100%|██████████| 3051/3051 [01:18<00:00, 38.99it/s]\n"
          ]
        },
        {
          "name": "stdout",
          "output_type": "stream",
          "text": [
            "training epoch 10\n"
          ]
        },
        {
          "name": "stderr",
          "output_type": "stream",
          "text": [
            "Training: 100%|██████████| 3051/3051 [01:10<00:00, 43.55it/s]\n"
          ]
        },
        {
          "name": "stdout",
          "output_type": "stream",
          "text": [
            "training epoch 11\n"
          ]
        },
        {
          "name": "stderr",
          "output_type": "stream",
          "text": [
            "Training:  99%|█████████▉| 3035/3051 [01:09<00:00, 43.76it/s]C:\\Users\\dumps\\AppData\\Roaming\\Python\\Python39\\site-packages\\sklearn\\metrics\\_classification.py:1308: UndefinedMetricWarning: Precision and F-score are ill-defined and being set to 0.0 in labels with no predicted samples. Use `zero_division` parameter to control this behavior.\n",
            "  _warn_prf(average, modifier, msg_start, len(result))\n",
            "C:\\Users\\dumps\\AppData\\Roaming\\Python\\Python39\\site-packages\\sklearn\\metrics\\_classification.py:1308: UndefinedMetricWarning: Precision and F-score are ill-defined and being set to 0.0 in labels with no predicted samples. Use `zero_division` parameter to control this behavior.\n",
            "  _warn_prf(average, modifier, msg_start, len(result))\n",
            "Training: 100%|█████████▉| 3040/3051 [01:18<00:05,  1.93it/s]"
          ]
        },
        {
          "name": "stdout",
          "output_type": "stream",
          "text": [
            "evaluating at step 36600\n",
            "{'macro_precision': 0.13146021117567905, 'macro_recall': 0.09417822253119619, 'macro_f1': 0.1086959271347964}\n",
            "saving at step 36600\n"
          ]
        },
        {
          "name": "stderr",
          "output_type": "stream",
          "text": [
            "Training: 100%|██████████| 3051/3051 [01:18<00:00, 38.93it/s]\n"
          ]
        },
        {
          "name": "stdout",
          "output_type": "stream",
          "text": [
            "training epoch 12\n"
          ]
        },
        {
          "name": "stderr",
          "output_type": "stream",
          "text": [
            "Training: 100%|██████████| 3051/3051 [01:10<00:00, 43.50it/s]\n"
          ]
        },
        {
          "name": "stdout",
          "output_type": "stream",
          "text": [
            "training epoch 13\n"
          ]
        },
        {
          "name": "stderr",
          "output_type": "stream",
          "text": [
            "Training:  99%|█████████▉| 3035/3051 [01:09<00:00, 43.68it/s]C:\\Users\\dumps\\AppData\\Roaming\\Python\\Python39\\site-packages\\sklearn\\metrics\\_classification.py:1308: UndefinedMetricWarning: Precision and F-score are ill-defined and being set to 0.0 in labels with no predicted samples. Use `zero_division` parameter to control this behavior.\n",
            "  _warn_prf(average, modifier, msg_start, len(result))\n",
            "C:\\Users\\dumps\\AppData\\Roaming\\Python\\Python39\\site-packages\\sklearn\\metrics\\_classification.py:1308: UndefinedMetricWarning: Precision and F-score are ill-defined and being set to 0.0 in labels with no predicted samples. Use `zero_division` parameter to control this behavior.\n",
            "  _warn_prf(average, modifier, msg_start, len(result))\n",
            "Training: 100%|█████████▉| 3040/3051 [01:18<00:05,  1.93it/s]"
          ]
        },
        {
          "name": "stdout",
          "output_type": "stream",
          "text": [
            "evaluating at step 42700\n",
            "{'macro_precision': 0.25866922117381297, 'macro_recall': 0.10727159014163677, 'macro_f1': 0.1262606326150842}\n",
            "saving at step 42700\n"
          ]
        },
        {
          "name": "stderr",
          "output_type": "stream",
          "text": [
            "Training: 100%|██████████| 3051/3051 [01:18<00:00, 38.98it/s]\n"
          ]
        },
        {
          "name": "stdout",
          "output_type": "stream",
          "text": [
            "training epoch 14\n"
          ]
        },
        {
          "name": "stderr",
          "output_type": "stream",
          "text": [
            "Training: 100%|██████████| 3051/3051 [01:10<00:00, 43.51it/s]\n"
          ]
        },
        {
          "name": "stdout",
          "output_type": "stream",
          "text": [
            "training epoch 15\n"
          ]
        },
        {
          "name": "stderr",
          "output_type": "stream",
          "text": [
            "Training:  99%|█████████▉| 3030/3051 [01:09<00:00, 43.46it/s]C:\\Users\\dumps\\AppData\\Roaming\\Python\\Python39\\site-packages\\sklearn\\metrics\\_classification.py:1308: UndefinedMetricWarning: Precision and F-score are ill-defined and being set to 0.0 in labels with no predicted samples. Use `zero_division` parameter to control this behavior.\n",
            "  _warn_prf(average, modifier, msg_start, len(result))\n",
            "C:\\Users\\dumps\\AppData\\Roaming\\Python\\Python39\\site-packages\\sklearn\\metrics\\_classification.py:1308: UndefinedMetricWarning: Precision and F-score are ill-defined and being set to 0.0 in labels with no predicted samples. Use `zero_division` parameter to control this behavior.\n",
            "  _warn_prf(average, modifier, msg_start, len(result))\n",
            "Training:  99%|█████████▉| 3035/3051 [01:18<00:08,  1.93it/s]"
          ]
        },
        {
          "name": "stdout",
          "output_type": "stream",
          "text": [
            "evaluating at step 48800\n",
            "{'macro_precision': 0.298302202123233, 'macro_recall': 0.133958458475878, 'macro_f1': 0.16491745937919047}\n",
            "saving at step 48800\n"
          ]
        },
        {
          "name": "stderr",
          "output_type": "stream",
          "text": [
            "Training: 100%|██████████| 3051/3051 [01:18<00:00, 38.92it/s]\n"
          ]
        },
        {
          "name": "stdout",
          "output_type": "stream",
          "text": [
            "training epoch 16\n"
          ]
        },
        {
          "name": "stderr",
          "output_type": "stream",
          "text": [
            "Training: 100%|██████████| 3051/3051 [01:10<00:00, 43.48it/s]\n"
          ]
        },
        {
          "name": "stdout",
          "output_type": "stream",
          "text": [
            "training epoch 17\n"
          ]
        },
        {
          "name": "stderr",
          "output_type": "stream",
          "text": [
            "Training:  99%|█████████▉| 3030/3051 [01:09<00:00, 43.55it/s]C:\\Users\\dumps\\AppData\\Roaming\\Python\\Python39\\site-packages\\sklearn\\metrics\\_classification.py:1308: UndefinedMetricWarning: Precision and F-score are ill-defined and being set to 0.0 in labels with no predicted samples. Use `zero_division` parameter to control this behavior.\n",
            "  _warn_prf(average, modifier, msg_start, len(result))\n",
            "C:\\Users\\dumps\\AppData\\Roaming\\Python\\Python39\\site-packages\\sklearn\\metrics\\_classification.py:1308: UndefinedMetricWarning: Precision and F-score are ill-defined and being set to 0.0 in labels with no predicted samples. Use `zero_division` parameter to control this behavior.\n",
            "  _warn_prf(average, modifier, msg_start, len(result))\n",
            "Training:  99%|█████████▉| 3035/3051 [01:17<00:08,  1.93it/s]"
          ]
        },
        {
          "name": "stdout",
          "output_type": "stream",
          "text": [
            "evaluating at step 54900\n",
            "{'macro_precision': 0.33005928764737047, 'macro_recall': 0.15749632534730526, 'macro_f1': 0.19716925121043494}\n",
            "saving at step 54900\n"
          ]
        },
        {
          "name": "stderr",
          "output_type": "stream",
          "text": [
            "Training: 100%|██████████| 3051/3051 [01:18<00:00, 38.97it/s]\n"
          ]
        },
        {
          "name": "stdout",
          "output_type": "stream",
          "text": [
            "training epoch 18\n"
          ]
        },
        {
          "name": "stderr",
          "output_type": "stream",
          "text": [
            "Training: 100%|██████████| 3051/3051 [01:10<00:00, 43.49it/s]\n"
          ]
        },
        {
          "name": "stdout",
          "output_type": "stream",
          "text": [
            "training epoch 19\n"
          ]
        },
        {
          "name": "stderr",
          "output_type": "stream",
          "text": [
            "Training:  99%|█████████▉| 3029/3051 [01:09<00:00, 43.54it/s]C:\\Users\\dumps\\AppData\\Roaming\\Python\\Python39\\site-packages\\sklearn\\metrics\\_classification.py:1308: UndefinedMetricWarning: Precision and F-score are ill-defined and being set to 0.0 in labels with no predicted samples. Use `zero_division` parameter to control this behavior.\n",
            "  _warn_prf(average, modifier, msg_start, len(result))\n",
            "C:\\Users\\dumps\\AppData\\Roaming\\Python\\Python39\\site-packages\\sklearn\\metrics\\_classification.py:1308: UndefinedMetricWarning: Precision and F-score are ill-defined and being set to 0.0 in labels with no predicted samples. Use `zero_division` parameter to control this behavior.\n",
            "  _warn_prf(average, modifier, msg_start, len(result))\n",
            "Training:  99%|█████████▉| 3034/3051 [01:18<00:08,  1.91it/s]"
          ]
        },
        {
          "name": "stdout",
          "output_type": "stream",
          "text": [
            "evaluating at step 61000\n",
            "{'macro_precision': 0.4080917869810091, 'macro_recall': 0.1771688158396175, 'macro_f1': 0.21927788561027073}\n",
            "saving at step 61000\n"
          ]
        },
        {
          "name": "stderr",
          "output_type": "stream",
          "text": [
            "Training: 100%|██████████| 3051/3051 [01:18<00:00, 38.80it/s]\n"
          ]
        }
      ],
      "source": [
        "# model = create_model_from_config(args, encoder)\n",
        "model = create_rnn_model_from_config(args, encoder)\n",
        "model = train(\n",
        "    model, \n",
        "    train_dataset, \n",
        "    val_dataset, \n",
        "    metadata= dict(args),\n",
        "    tokenizer = tokenizer, \n",
        "    epochs = args.train_epochs, \n",
        "    train_batch_size = args.train_batch_size, \n",
        "    val_batch_size = args.eval_batch_size, \n",
        "    save_steps = args.save_steps, \n",
        "    validation_steps= args.validation_steps, \n",
        "    archive_dir = output_dir, \n",
        "    model_name = args.model_name, \n",
        "    classification_threshold = args.classification_threshold, \n",
        "    learning_rate = args.learning_rate, \n",
        "    grad_clip_max = args.grad_clip_max, \n",
        "    weight_decay = args.weight_decay, \n",
        "    warmup_ratio = args.warmup_ratio, \n",
        "    clear_archive=False,\n",
        "    logging_metrics= ['macro_f1', 'macro_precision', 'macro_recall'],\n",
        "    continue_training=False,\n",
        "    device = args.device\n",
        ")"
      ]
    },
    {
      "cell_type": "code",
      "execution_count": 105,
      "metadata": {
        "colab": {
          "base_uri": "https://localhost:8080/"
        },
        "id": "jO0CKM-CkU4H",
        "outputId": "eacf4978-5e50-460d-cc5a-a04987f9d4ee"
      },
      "outputs": [],
      "source": [
        "# model, metadata = load_from_checkpoint(\n",
        "#     output_dir, \n",
        "#     'go-emotion-tiny', \n",
        "#     checkpoint_id='450000', \n",
        "# )\n",
        "# proba = proba_on_examples(['what the fuck is happening?', \n",
        "#                            'I am not sure', \n",
        "#                            'good job ! cool'], \n",
        "#                   model, tokenizer = tokenizer)\n",
        "\n",
        "# proba_to_emotion(proba, 0.5, args.emotions)"
      ]
    },
    {
      "cell_type": "code",
      "execution_count": 106,
      "metadata": {
        "id": "PZ0XubWhljHR"
      },
      "outputs": [],
      "source": [
        "# model, meta, optimizer, scheduler = load_from_checkpoint(\n",
        "#     output_dir, \n",
        "#     args.model_name, \n",
        "#     checkpoint_id=30500, \n",
        "#     load_optimizer=True, \n",
        "#     cls=GoEmotionClassiferWithGRU\n",
        "# )\n",
        "\n",
        "# model = train(\n",
        "#     model, \n",
        "#     train_dataset, \n",
        "#     val_dataset, \n",
        "#     metadata= meta,\n",
        "#     tokenizer = tokenizer, \n",
        "#     epochs = args.train_epochs, \n",
        "#     train_batch_size = args.train_batch_size, \n",
        "#     val_batch_size = args.eval_batch_size, \n",
        "#     save_steps = args.save_steps, \n",
        "#     validation_steps= args.validation_steps, \n",
        "#     archive_dir = output_dir, \n",
        "#     model_name = args.model_name, \n",
        "#     classification_threshold = args.classification_threshold, \n",
        "#     learning_rate = args.learning_rate, \n",
        "#     grad_clip_max = args.grad_clip_max, \n",
        "#     weight_decay = args.weight_decay, \n",
        "#     warmup_ratio = args.warmup_ratio, \n",
        "#     clear_archive=False,\n",
        "#     logging_metrics= ['macro_f1', 'macro_precision', 'macro_recall'],\n",
        "#     continue_training=True,\n",
        "#     optimizer = optimizer, \n",
        "#     scheduler = scheduler, \n",
        "#     device = args.device\n",
        "# )"
      ]
    },
    {
      "cell_type": "code",
      "execution_count": 112,
      "metadata": {},
      "outputs": [],
      "source": [
        "model, metadata = load_from_checkpoint(\n",
        "    output_dir, \n",
        "    'go-emotion-tiny-gru', \n",
        "    checkpoint_id='61000', \n",
        "    cls=GoEmotionClassiferWithGRU\n",
        ")"
      ]
    },
    {
      "cell_type": "code",
      "execution_count": 113,
      "metadata": {},
      "outputs": [],
      "source": [
        "def predict_proba(model, \n",
        "            dataset, \n",
        "            batch_size=16, \n",
        "            device='cpu', back_to_cpu=True):\n",
        "  eval_dataloader = DataLoader(\n",
        "      dataset, \n",
        "      batch_size=batch_size, \n",
        "  )\n",
        "\n",
        "  n_batch = 0\n",
        "  proba = []\n",
        "\n",
        "  model.to(device)\n",
        "\n",
        "  for batch in tqdm(eval_dataloader, desc='evaluation', leave=False):\n",
        "    model.eval()\n",
        "    batch = { k:v.to(device) for k, v in batch.items() }\n",
        "\n",
        "    with torch.no_grad():\n",
        "      logits = model(batch['input_ids'], batch['attention_mask'])\n",
        "      logits = logits.cpu().detach().numpy()\n",
        "\n",
        "    p = 1 / (1 + np.exp(-logits))\n",
        "    proba.append(p)\n",
        "\n",
        "    n_batch += 1\n",
        "\n",
        "  if back_to_cpu:\n",
        "    model.cpu()\n",
        "\n",
        "  proba = np.vstack(proba)\n",
        "  return proba"
      ]
    },
    {
      "cell_type": "code",
      "execution_count": 114,
      "metadata": {},
      "outputs": [
        {
          "name": "stderr",
          "output_type": "stream",
          "text": [
            "                                                             \r"
          ]
        }
      ],
      "source": [
        "proba = predict_proba(\n",
        "    model, \n",
        "    val_dataset, \n",
        "    batch_size = args.eval_batch_size, \n",
        "    device = args.device\n",
        ")\n",
        "y_true = val_dataset[:]['y_true'].numpy()"
      ]
    },
    {
      "cell_type": "code",
      "execution_count": 115,
      "metadata": {},
      "outputs": [
        {
          "data": {
            "text/plain": [
              "0.8380662816178408"
            ]
          },
          "execution_count": 115,
          "metadata": {},
          "output_type": "execute_result"
        }
      ],
      "source": [
        "roc_auc_score(y_true, proba, average='macro')"
      ]
    },
    {
      "cell_type": "code",
      "execution_count": 116,
      "metadata": {},
      "outputs": [
        {
          "data": {
            "image/png": "[encoded data removed]",
            "text/plain": [
              "<Figure size 432x288 with 1 Axes>"
            ]
          },
          "metadata": {
            "needs_background": "light"
          },
          "output_type": "display_data"
        },
        {
          "data": {
            "image/png": "[encoded data removed]",
            "text/plain": [
              "<Figure size 432x288 with 1 Axes>"
            ]
          },
          "metadata": {
            "needs_background": "light"
          },
          "output_type": "display_data"
        },
        {
          "data": {
            "image/png": "[encoded data removed]",
            "text/plain": [
              "<Figure size 432x288 with 1 Axes>"
            ]
          },
          "metadata": {
            "needs_background": "light"
          },
          "output_type": "display_data"
        },
        {
          "data": {
            "image/png": "[encoded data removed]",
            "text/plain": [
              "<Figure size 432x288 with 1 Axes>"
            ]
          },
          "metadata": {
            "needs_background": "light"
          },
          "output_type": "display_data"
        },
        {
          "data": {
            "image/png": "[encoded data removed]",
            "text/plain": [
              "<Figure size 432x288 with 1 Axes>"
            ]
          },
          "metadata": {
            "needs_background": "light"
          },
          "output_type": "display_data"
        },
        {
          "data": {
            "image/png": "[encoded data removed]",
            "text/plain": [
              "<Figure size 432x288 with 1 Axes>"
            ]
          },
          "metadata": {
            "needs_background": "light"
          },
          "output_type": "display_data"
        },
        {
          "data": {
            "image/png": "[encoded data removed]",
            "text/plain": [
              "<Figure size 432x288 with 1 Axes>"
            ]
          },
          "metadata": {
            "needs_background": "light"
          },
          "output_type": "display_data"
        },
        {
          "data": {
            "image/png": "[encoded data removed]",
            "text/plain": [
              "<Figure size 432x288 with 1 Axes>"
            ]
          },
          "metadata": {
            "needs_background": "light"
          },
          "output_type": "display_data"
        },
        {
          "data": {
            "image/png": "[encoded data removed]",
            "text/plain": [
              "<Figure size 432x288 with 1 Axes>"
            ]
          },
          "metadata": {
            "needs_background": "light"
          },
          "output_type": "display_data"
        },
        {
          "data": {
            "image/png": "[encoded data removed]",
            "text/plain": [
              "<Figure size 432x288 with 1 Axes>"
            ]
          },
          "metadata": {
            "needs_background": "light"
          },
          "output_type": "display_data"
        },
        {
          "data": {
            "image/png": "[encoded data removed]",
            "text/plain": [
              "<Figure size 432x288 with 1 Axes>"
            ]
          },
          "metadata": {
            "needs_background": "light"
          },
          "output_type": "display_data"
        },
        {
          "data": {
            "image/png": "[encoded data removed]",
            "text/plain": [
              "<Figure size 432x288 with 1 Axes>"
            ]
          },
          "metadata": {
            "needs_background": "light"
          },
          "output_type": "display_data"
        },
        {
          "data": {
            "image/png": "[encoded data removed]",
            "text/plain": [
              "<Figure size 432x288 with 1 Axes>"
            ]
          },
          "metadata": {
            "needs_background": "light"
          },
          "output_type": "display_data"
        },
        {
          "data": {
            "image/png": "[encoded data removed]",
            "text/plain": [
              "<Figure size 432x288 with 1 Axes>"
            ]
          },
          "metadata": {
            "needs_background": "light"
          },
          "output_type": "display_data"
        },
        {
          "data": {
            "image/png": "[encoded data removed]",
            "text/plain": [
              "<Figure size 432x288 with 1 Axes>"
            ]
          },
          "metadata": {
            "needs_background": "light"
          },
          "output_type": "display_data"
        },
        {
          "data": {
            "image/png": "[encoded data removed]",
            "text/plain": [
              "<Figure size 432x288 with 1 Axes>"
            ]
          },
          "metadata": {
            "needs_background": "light"
          },
          "output_type": "display_data"
        },
        {
          "data": {
            "image/png": "[encoded data removed]",
            "text/plain": [
              "<Figure size 432x288 with 1 Axes>"
            ]
          },
          "metadata": {
            "needs_background": "light"
          },
          "output_type": "display_data"
        },
        {
          "data": {
            "image/png": "[encoded data removed]",
            "text/plain": [
              "<Figure size 432x288 with 1 Axes>"
            ]
          },
          "metadata": {
            "needs_background": "light"
          },
          "output_type": "display_data"
        },
        {
          "data": {
            "image/png": "[encoded data removed]",
            "text/plain": [
              "<Figure size 432x288 with 1 Axes>"
            ]
          },
          "metadata": {
            "needs_background": "light"
          },
          "output_type": "display_data"
        },
        {
          "data": {
            "image/png": "[encoded data removed]",
            "text/plain": [
              "<Figure size 432x288 with 1 Axes>"
            ]
          },
          "metadata": {
            "needs_background": "light"
          },
          "output_type": "display_data"
        },
        {
          "data": {
            "image/png": "[encoded data removed]",
            "text/plain": [
              "<Figure size 432x288 with 1 Axes>"
            ]
          },
          "metadata": {
            "needs_background": "light"
          },
          "output_type": "display_data"
        },
        {
          "data": {
            "image/png": "[encoded data removed]",
            "text/plain": [
              "<Figure size 432x288 with 1 Axes>"
            ]
          },
          "metadata": {
            "needs_background": "light"
          },
          "output_type": "display_data"
        },
        {
          "data": {
            "image/png": "[encoded data removed]",
            "text/plain": [
              "<Figure size 432x288 with 1 Axes>"
            ]
          },
          "metadata": {
            "needs_background": "light"
          },
          "output_type": "display_data"
        },
        {
          "data": {
            "image/png": "[encoded data removed]",
            "text/plain": [
              "<Figure size 432x288 with 1 Axes>"
            ]
          },
          "metadata": {
            "needs_background": "light"
          },
          "output_type": "display_data"
        },
        {
          "data": {
            "image/png": "[encoded data removed]",
            "text/plain": [
              "<Figure size 432x288 with 1 Axes>"
            ]
          },
          "metadata": {
            "needs_background": "light"
          },
          "output_type": "display_data"
        },
        {
          "data": {
            "image/png": "[encoded data removed]",
            "text/plain": [
              "<Figure size 432x288 with 1 Axes>"
            ]
          },
          "metadata": {
            "needs_background": "light"
          },
          "output_type": "display_data"
        },
        {
          "data": {
            "image/png": "[encoded data removed]",
            "text/plain": [
              "<Figure size 432x288 with 1 Axes>"
            ]
          },
          "metadata": {
            "needs_background": "light"
          },
          "output_type": "display_data"
        }
      ],
      "source": [
        "from sklearn.metrics import roc_curve\n",
        "from sklearn.metrics import roc_auc_score\n",
        "import matplotlib.pyplot as plt\n",
        "\n",
        "\n",
        "for i, emt in enumerate(args.emotions):\n",
        "    fpr, tpr, _ = roc_curve(y_true[:, i], proba[:, i])\n",
        "    plt.plot(fpr, tpr)\n",
        "    plt.title(emt)\n",
        "    plt.show()\n"
      ]
    },
    {
      "cell_type": "code",
      "execution_count": 146,
      "metadata": {},
      "outputs": [
        {
          "data": {
            "text/plain": [
              "[('anger', 'annoyance'), ('approval',)]"
            ]
          },
          "execution_count": 146,
          "metadata": {},
          "output_type": "execute_result"
        }
      ],
      "source": [
        "proba_to_emotion(\n",
        "    proba_on_examples([\n",
        "        'fuck cloud', \n",
        "        'yeet'\n",
        "    ], model, tokenizer), \n",
        "    0.4, \n",
        "    args.emotions)"
      ]
    },
    {
      "cell_type": "code",
      "execution_count": 121,
      "metadata": {},
      "outputs": [
        {
          "name": "stdout",
          "output_type": "stream",
          "text": [
            "\u001b[1;31mSignature:\u001b[0m \u001b[0mproba_to_emotion\u001b[0m\u001b[1;33m(\u001b[0m\u001b[0mproba\u001b[0m\u001b[1;33m,\u001b[0m \u001b[0mthreshold\u001b[0m\u001b[1;33m,\u001b[0m \u001b[0memotions\u001b[0m\u001b[1;33m)\u001b[0m\u001b[1;33m\u001b[0m\u001b[1;33m\u001b[0m\u001b[0m\n",
            "\u001b[1;31mDocstring:\u001b[0m <no docstring>\n",
            "\u001b[1;31mFile:\u001b[0m      c:\\users\\dumps\\appdata\\local\\temp\\ipykernel_20416\\2169038180.py\n",
            "\u001b[1;31mType:\u001b[0m      function\n"
          ]
        }
      ],
      "source": [
        "\n",
        "proba_to_emotion?\n"
      ]
    },
    {
      "cell_type": "code",
      "execution_count": null,
      "metadata": {},
      "outputs": [],
      "source": []
    }
  ],
  "metadata": {
    "accelerator": "GPU",
    "colab": {
      "collapsed_sections": [],
      "name": "Copy of bert-tf",
      "provenance": []
    },
    "kernelspec": {
      "display_name": "Python 3",
      "name": "python3"
    },
    "language_info": {
      "codemirror_mode": {
        "name": "ipython",
        "version": 3
      },
      "file_extension": ".py",
      "mimetype": "text/x-python",
      "name": "python",
      "nbconvert_exporter": "python",
      "pygments_lexer": "ipython3",
      "version": "3.9.7"
    }
  },
  "nbformat": 4,
  "nbformat_minor": 0
}
