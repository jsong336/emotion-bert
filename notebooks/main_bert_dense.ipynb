{
  "cells": [
    {
      "cell_type": "code",
      "execution_count": 1,
      "metadata": {
        "id": "lDBZcPC1yiw6"
      },
      "outputs": [
        {
          "name": "stdout",
          "output_type": "stream",
          "text": [
            "device: cuda\n"
          ]
        }
      ],
      "source": [
        "%run library_utils.ipynb\n",
        "\n",
        "import os \n",
        "import numpy as np \n",
        "import matplotlib.pyplot as plt\n",
        "import torch \n",
        "import transformers\n",
        "assert transformers.__version__ >= '4.17.'\n",
        "from transformers import (\n",
        "    AutoTokenizer, \n",
        "    AutoModel)\n",
        "from tqdm import tqdm\n",
        "from torch import Tensor\n",
        "import torch.nn as nn\n",
        "\n",
        "tqdm.pandas()\n",
        "\n",
        "module = 'go-emotion-pool'\n",
        "args = load_args(module)"
      ]
    },
    {
      "cell_type": "markdown",
      "metadata": {},
      "source": [
        "### Tokenizer & Encoder"
      ]
    },
    {
      "cell_type": "code",
      "execution_count": 2,
      "metadata": {},
      "outputs": [
        {
          "name": "stderr",
          "output_type": "stream",
          "text": [
            "Some weights of the model checkpoint at prajjwal1/bert-tiny were not used when initializing BertModel: ['cls.seq_relationship.weight', 'cls.predictions.transform.dense.weight', 'cls.predictions.decoder.weight', 'cls.predictions.transform.LayerNorm.bias', 'cls.predictions.bias', 'cls.predictions.decoder.bias', 'cls.seq_relationship.bias', 'cls.predictions.transform.LayerNorm.weight', 'cls.predictions.transform.dense.bias']\n",
            "- This IS expected if you are initializing BertModel from the checkpoint of a model trained on another task or with another architecture (e.g. initializing a BertForSequenceClassification model from a BertForPreTraining model).\n",
            "- This IS NOT expected if you are initializing BertModel from the checkpoint of a model that you expect to be exactly identical (initializing a BertForSequenceClassification model from a BertForSequenceClassification model).\n"
          ]
        }
      ],
      "source": [
        "tokenizer = AutoTokenizer.from_pretrained(args.encoder_name)\n",
        "encoder = AutoModel.from_pretrained(args.encoder_name)"
      ]
    },
    {
      "cell_type": "code",
      "execution_count": 3,
      "metadata": {},
      "outputs": [
        {
          "data": {
            "text/plain": [
              "62"
            ]
          },
          "execution_count": 3,
          "metadata": {},
          "output_type": "execute_result"
        }
      ],
      "source": [
        "X_tk = tokenize_bert_inputs(\n",
        "  ['hello my name is jeongwon', 'what are you?'], \n",
        "  tokenizer, \n",
        "  maxlen=args.sentence_max_len\n",
        ")\n",
        "len(X_tk['input_ids'][0])"
      ]
    },
    {
      "cell_type": "markdown",
      "metadata": {},
      "source": [
        "## Loading dataset"
      ]
    },
    {
      "cell_type": "code",
      "execution_count": 9,
      "metadata": {},
      "outputs": [
        {
          "name": "stdout",
          "output_type": "stream",
          "text": [
            "Wall time: 5.74 s\n"
          ]
        }
      ],
      "source": [
        "%%time\n",
        "dataset_path = os.path.join(args.output_dir, args.train_dataset_path)\n",
        "assert os.path.exists(dataset_path)\n",
        "\n",
        "train_dataset, val_dataset = generate_bert_dataset(\n",
        "    dataset_path,     \n",
        "    tokenizer, \n",
        "    emotions = args.emotions, \n",
        "    sentence_max_len = args.sentence_max_len, \n",
        "    split = args.validation_split_from_train\n",
        ")"
      ]
    },
    {
      "cell_type": "markdown",
      "metadata": {},
      "source": [
        "## Building Model"
      ]
    },
    {
      "cell_type": "code",
      "execution_count": 10,
      "metadata": {
        "id": "AA5TgjDEMkgl"
      },
      "outputs": [],
      "source": [
        "class GoEmotionPoolClassifer(TransformerEncoderBase):\n",
        "    def __init__(self, \n",
        "        encoder, \n",
        "        criterion = nn.BCEWithLogitsLoss(), \n",
        "        hiddens = None, \n",
        "        dropout_p: float = 0.1, \n",
        "        n_cls:int = 28\n",
        "    ) -> None:\n",
        "        config = {\n",
        "            'hiddens':  [100] if hiddens is None else hiddens, \n",
        "            'dropout_p': dropout_p, \n",
        "            'n_cls': n_cls\n",
        "        }\n",
        "        super().__init__(encoder, criterion, config)\n",
        "\n",
        "        # new layers \n",
        "        self.dropout = nn.Dropout(dropout_p)\n",
        "\n",
        "        # full connected\n",
        "        fcs = []\n",
        "        in_feature = self.encoder_dim \n",
        "        for h in self.config['hiddens']:\n",
        "            fcs.append(nn.Linear(in_feature, h))\n",
        "            fcs.append(nn.ReLU())\n",
        "            in_feature = h    \n",
        "\n",
        "        # final layer \n",
        "        fcs.append(nn.Linear(in_feature, n_cls))\n",
        "        self.fcs = nn.Sequential(*fcs)\n",
        "\n",
        "    def forward(self, input_ids, attention_mask, y_true=None):\n",
        "        encoder_output = super().forward(input_ids, attention_mask)\n",
        "        pool_output = encoder_output['pooler_output']\n",
        "\n",
        "        z = self.dropout(pool_output)\n",
        "        logits = self.fcs(z)\n",
        "\n",
        "        if y_true is not None:\n",
        "            loss = self.criterion(logits, y_true)\n",
        "            return (loss, logits)\n",
        "\n",
        "        return logits"
      ]
    },
    {
      "cell_type": "code",
      "execution_count": 11,
      "metadata": {},
      "outputs": [
        {
          "data": {
            "text/plain": [
              "GoEmotionPoolClassifer(\n",
              "  (encoder): BertModel(\n",
              "    (embeddings): BertEmbeddings(\n",
              "      (word_embeddings): Embedding(30522, 128, padding_idx=0)\n",
              "      (position_embeddings): Embedding(512, 128)\n",
              "      (token_type_embeddings): Embedding(2, 128)\n",
              "      (LayerNorm): LayerNorm((128,), eps=1e-12, elementwise_affine=True)\n",
              "      (dropout): Dropout(p=0.1, inplace=False)\n",
              "    )\n",
              "    (encoder): BertEncoder(\n",
              "      (layer): ModuleList(\n",
              "        (0): BertLayer(\n",
              "          (attention): BertAttention(\n",
              "            (self): BertSelfAttention(\n",
              "              (query): Linear(in_features=128, out_features=128, bias=True)\n",
              "              (key): Linear(in_features=128, out_features=128, bias=True)\n",
              "              (value): Linear(in_features=128, out_features=128, bias=True)\n",
              "              (dropout): Dropout(p=0.1, inplace=False)\n",
              "            )\n",
              "            (output): BertSelfOutput(\n",
              "              (dense): Linear(in_features=128, out_features=128, bias=True)\n",
              "              (LayerNorm): LayerNorm((128,), eps=1e-12, elementwise_affine=True)\n",
              "              (dropout): Dropout(p=0.1, inplace=False)\n",
              "            )\n",
              "          )\n",
              "          (intermediate): BertIntermediate(\n",
              "            (dense): Linear(in_features=128, out_features=512, bias=True)\n",
              "            (intermediate_act_fn): GELUActivation()\n",
              "          )\n",
              "          (output): BertOutput(\n",
              "            (dense): Linear(in_features=512, out_features=128, bias=True)\n",
              "            (LayerNorm): LayerNorm((128,), eps=1e-12, elementwise_affine=True)\n",
              "            (dropout): Dropout(p=0.1, inplace=False)\n",
              "          )\n",
              "        )\n",
              "        (1): BertLayer(\n",
              "          (attention): BertAttention(\n",
              "            (self): BertSelfAttention(\n",
              "              (query): Linear(in_features=128, out_features=128, bias=True)\n",
              "              (key): Linear(in_features=128, out_features=128, bias=True)\n",
              "              (value): Linear(in_features=128, out_features=128, bias=True)\n",
              "              (dropout): Dropout(p=0.1, inplace=False)\n",
              "            )\n",
              "            (output): BertSelfOutput(\n",
              "              (dense): Linear(in_features=128, out_features=128, bias=True)\n",
              "              (LayerNorm): LayerNorm((128,), eps=1e-12, elementwise_affine=True)\n",
              "              (dropout): Dropout(p=0.1, inplace=False)\n",
              "            )\n",
              "          )\n",
              "          (intermediate): BertIntermediate(\n",
              "            (dense): Linear(in_features=128, out_features=512, bias=True)\n",
              "            (intermediate_act_fn): GELUActivation()\n",
              "          )\n",
              "          (output): BertOutput(\n",
              "            (dense): Linear(in_features=512, out_features=128, bias=True)\n",
              "            (LayerNorm): LayerNorm((128,), eps=1e-12, elementwise_affine=True)\n",
              "            (dropout): Dropout(p=0.1, inplace=False)\n",
              "          )\n",
              "        )\n",
              "      )\n",
              "    )\n",
              "    (pooler): BertPooler(\n",
              "      (dense): Linear(in_features=128, out_features=128, bias=True)\n",
              "      (activation): Tanh()\n",
              "    )\n",
              "  )\n",
              "  (criterion): BCEWithLogitsLoss()\n",
              "  (dropout): Dropout(p=0.1, inplace=False)\n",
              "  (fcs): Sequential(\n",
              "    (0): Linear(in_features=128, out_features=50, bias=True)\n",
              "    (1): ReLU()\n",
              "    (2): Linear(in_features=50, out_features=50, bias=True)\n",
              "    (3): ReLU()\n",
              "    (4): Linear(in_features=50, out_features=27, bias=True)\n",
              "  )\n",
              ")"
            ]
          },
          "execution_count": 11,
          "metadata": {},
          "output_type": "execute_result"
        }
      ],
      "source": [
        "def create_go_emotion_pool(args, encoder):\n",
        "    return GoEmotionPoolClassifer(\n",
        "        encoder, \n",
        "        hiddens = args.fc_hiddens, \n",
        "        dropout_p = args.dropout_p, \n",
        "        n_cls = len(args.emotions)\n",
        "    )\n",
        "\n",
        "model = create_go_emotion_pool(args, encoder)\n",
        "model"
      ]
    },
    {
      "cell_type": "markdown",
      "metadata": {},
      "source": [
        "## Utility to predict on examples"
      ]
    },
    {
      "cell_type": "code",
      "execution_count": 12,
      "metadata": {},
      "outputs": [],
      "source": [
        "def proba_on_examples(texts, model):\n",
        "    X_tk = tokenize_bert_inputs(\n",
        "        texts, tokenizer, maxlen = args.sentence_max_len\n",
        "    )\n",
        "    X_tk['input_ids'] = Tensor(X_tk['input_ids']).type(torch.int32)\n",
        "    X_tk['attention_mask'] = Tensor(X_tk['attention_mask']).type(torch.int32)\n",
        "    proba = predict_proba_examples(X_tk, model)\n",
        "    return proba"
      ]
    },
    {
      "cell_type": "code",
      "execution_count": 13,
      "metadata": {},
      "outputs": [
        {
          "data": {
            "text/plain": [
              "[('admiration', 0.49230123), ('amusement', 0.4909365), ('anger', 0.46930766)]"
            ]
          },
          "execution_count": 13,
          "metadata": {},
          "output_type": "execute_result"
        }
      ],
      "source": [
        "proba = proba_on_examples(['hello my name is jeongwon', 'nice to meet you!'], model)\n",
        "proba_to_emotion(\n",
        "    proba,\n",
        "    args.classification_threshold, \n",
        "    args.emotions, \n",
        ")[0][:3]"
      ]
    },
    {
      "cell_type": "code",
      "execution_count": 15,
      "metadata": {
        "colab": {
          "base_uri": "https://localhost:8080/"
        },
        "id": "JPJa_quWJ0DI",
        "outputId": "a1fd619c-64e1-4436-b29d-cbfaf3c9114b"
      },
      "outputs": [
        {
          "name": "stderr",
          "output_type": "stream",
          "text": [
            "                                                                \r"
          ]
        },
        {
          "data": {
            "text/plain": [
              "{'loss': 0.6985663875136744,\n",
              " 'trigger_rate': 1.0,\n",
              " 'accuracy': 0.04695688599307007,\n",
              " 'macro_precision': 0.04695688599307007,\n",
              " 'macro_recall': 1.0,\n",
              " 'macro_f1': 0.0882997470479051,\n",
              " 'micro_precision': 0.04695688599307007,\n",
              " 'micro_recall': 1.0,\n",
              " 'micro_f1': 0.0897016613029486,\n",
              " 'weighted_precision': 0.0643399480933103,\n",
              " 'weighted_recall': 1.0,\n",
              " 'weighted_f1': 0.11955701106465137}"
            ]
          },
          "execution_count": 15,
          "metadata": {},
          "output_type": "execute_result"
        }
      ],
      "source": [
        "proba = predict_proba_examples(val_dataset[:5], model)\n",
        "y_true = val_dataset[:5]['y_true'].numpy()\n",
        "compute_classification_metrics(y_true, proba, 0.1)"
      ]
    },
    {
      "cell_type": "code",
      "execution_count": 11,
      "metadata": {},
      "outputs": [
        {
          "data": {
            "text/plain": [
              "True"
            ]
          },
          "execution_count": 11,
          "metadata": {},
          "output_type": "execute_result"
        }
      ],
      "source": [
        "# testing evaluate\n",
        "# evaluate(\n",
        "#     model, \n",
        "#     val_dataset, \n",
        "#     batch_size = args.eval_batch_size, \n",
        "#     threshold = args.classification_threshold, \n",
        "#     device = args.device\n",
        "# )\n",
        "\n",
        "# testing saving\n",
        "# model = create_go_emotion_pool(args, encoder)\n",
        "# _ = save_checkpoint(\n",
        "#     model, \n",
        "#     args.output_dir, \n",
        "#     model_name='testmodel',\n",
        "#     metadata=args\n",
        "# )\n",
        "\n",
        "# model_copy, _ = load_from_checkpoint(\n",
        "#     args.output_dir,\n",
        "#     model_name='testmodel',\n",
        "#     checkpoint_id='null-model', \n",
        "#     model_cls=GoEmotionPoolClassifer\n",
        "# )\n",
        "\n",
        "# check_model_same(model, model_copy)"
      ]
    },
    {
      "cell_type": "code",
      "execution_count": 17,
      "metadata": {},
      "outputs": [],
      "source": [
        "# clear_archive(args.output_dir, args.model_name)"
      ]
    },
    {
      "cell_type": "code",
      "execution_count": 18,
      "metadata": {},
      "outputs": [
        {
          "name": "stderr",
          "output_type": "stream",
          "text": [
            "C:\\Users\\dumps\\anaconda3\\envs\\emotion-detection\\lib\\site-packages\\transformers\\optimization.py:306: FutureWarning: This implementation of AdamW is deprecated and will be removed in a future version. Use the PyTorch implementation torch.optim.AdamW instead, or set `no_deprecation_warning=True` to disable this warning\n",
            "  warnings.warn(\n"
          ]
        },
        {
          "name": "stdout",
          "output_type": "stream",
          "text": [
            "training epoch 0\n"
          ]
        },
        {
          "name": "stderr",
          "output_type": "stream",
          "text": [
            "Training:  49%|████▉     | 3002/6101 [00:57<28:07,  1.84it/s]"
          ]
        },
        {
          "name": "stdout",
          "output_type": "stream",
          "text": [
            "evaluating at step 3000\n",
            "val {'macro_precision': 0.021635166289512068, 'macro_recall': 0.4074074074074074, 'macro_f1': 0.04019825305989202}\n",
            "tr {'macro_precision': 0.023459970509150836, 'macro_recall': 0.40742461792647666, 'macro_f1': 0.041089064022812476}\n",
            "saving at step 3000\n"
          ]
        },
        {
          "name": "stderr",
          "output_type": "stream",
          "text": [
            "Training:  98%|█████████▊| 6006/6101 [01:53<00:50,  1.89it/s]"
          ]
        },
        {
          "name": "stdout",
          "output_type": "stream",
          "text": [
            "evaluating at step 6000\n",
            "val {'macro_precision': 0.0, 'macro_recall': 0.0, 'macro_f1': 0.0}\n",
            "tr {'macro_precision': 0.0, 'macro_recall': 0.0, 'macro_f1': 0.0}\n",
            "saving at step 6000\n"
          ]
        },
        {
          "name": "stderr",
          "output_type": "stream",
          "text": [
            "Training: 100%|██████████| 6101/6101 [01:55<00:00, 53.05it/s]\n"
          ]
        },
        {
          "name": "stdout",
          "output_type": "stream",
          "text": [
            "training epoch 1\n"
          ]
        },
        {
          "name": "stderr",
          "output_type": "stream",
          "text": [
            "Training:  48%|████▊     | 2902/6101 [00:53<30:42,  1.74it/s]"
          ]
        },
        {
          "name": "stdout",
          "output_type": "stream",
          "text": [
            "evaluating at step 9000\n",
            "val {'macro_precision': 0.0, 'macro_recall': 0.0, 'macro_f1': 0.0}\n",
            "tr {'macro_precision': 0.0, 'macro_recall': 0.0, 'macro_f1': 0.0}\n",
            "saving at step 9000\n"
          ]
        },
        {
          "name": "stderr",
          "output_type": "stream",
          "text": [
            "Training:  97%|█████████▋| 5906/6101 [01:49<01:13,  2.67it/s]"
          ]
        },
        {
          "name": "stdout",
          "output_type": "stream",
          "text": [
            "evaluating at step 12000\n",
            "val {'macro_precision': 0.0, 'macro_recall': 0.0, 'macro_f1': 0.0}\n",
            "tr {'macro_precision': 0.0, 'macro_recall': 0.0, 'macro_f1': 0.0}\n",
            "saving at step 12000\n"
          ]
        },
        {
          "name": "stderr",
          "output_type": "stream",
          "text": [
            "Training: 100%|██████████| 6101/6101 [01:52<00:00, 54.09it/s]\n"
          ]
        },
        {
          "name": "stdout",
          "output_type": "stream",
          "text": [
            "training epoch 2\n"
          ]
        },
        {
          "name": "stderr",
          "output_type": "stream",
          "text": [
            "Training:  46%|████▌     | 2805/6101 [00:53<25:15,  2.17it/s]"
          ]
        },
        {
          "name": "stdout",
          "output_type": "stream",
          "text": [
            "evaluating at step 15000\n",
            "val {'macro_precision': 0.0, 'macro_recall': 0.0, 'macro_f1': 0.0}\n",
            "tr {'macro_precision': 0.0, 'macro_recall': 0.0, 'macro_f1': 0.0}\n",
            "saving at step 15000\n"
          ]
        },
        {
          "name": "stderr",
          "output_type": "stream",
          "text": [
            "Training:  95%|█████████▌| 5798/6101 [01:52<03:23,  1.49it/s]"
          ]
        },
        {
          "name": "stdout",
          "output_type": "stream",
          "text": [
            "evaluating at step 18000\n",
            "val {'macro_precision': 0.0, 'macro_recall': 0.0, 'macro_f1': 0.0}\n",
            "tr {'macro_precision': 0.0, 'macro_recall': 0.0, 'macro_f1': 0.0}\n",
            "saving at step 18000\n"
          ]
        },
        {
          "name": "stderr",
          "output_type": "stream",
          "text": [
            "Training: 100%|██████████| 6101/6101 [01:56<00:00, 52.16it/s]\n"
          ]
        },
        {
          "name": "stdout",
          "output_type": "stream",
          "text": [
            "training epoch 3\n"
          ]
        },
        {
          "name": "stderr",
          "output_type": "stream",
          "text": [
            "Training:  44%|████▍     | 2701/6101 [00:52<30:16,  1.87it/s]"
          ]
        },
        {
          "name": "stdout",
          "output_type": "stream",
          "text": [
            "evaluating at step 21000\n",
            "val {'macro_precision': 0.047518366912105155, 'macro_recall': 0.020835387295014624, 'macro_f1': 0.0237853892985557}\n",
            "tr {'macro_precision': 0.04727227454582774, 'macro_recall': 0.020715992253589104, 'macro_f1': 0.02337790950306398}\n",
            "saving at step 21000\n"
          ]
        },
        {
          "name": "stderr",
          "output_type": "stream",
          "text": [
            "Training:  93%|█████████▎| 5702/6101 [01:50<03:45,  1.77it/s]"
          ]
        },
        {
          "name": "stdout",
          "output_type": "stream",
          "text": [
            "evaluating at step 24000\n",
            "val {'macro_precision': 0.10852281258102103, 'macro_recall': 0.08159485190116167, 'macro_f1': 0.08892460621675465}\n",
            "tr {'macro_precision': 0.10615432770923008, 'macro_recall': 0.08037050885610719, 'macro_f1': 0.08727564282953229}\n",
            "saving at step 24000\n"
          ]
        },
        {
          "name": "stderr",
          "output_type": "stream",
          "text": [
            "Training: 100%|██████████| 6101/6101 [01:56<00:00, 52.18it/s]\n"
          ]
        },
        {
          "name": "stdout",
          "output_type": "stream",
          "text": [
            "training epoch 4\n"
          ]
        },
        {
          "name": "stderr",
          "output_type": "stream",
          "text": [
            "Training:  43%|████▎     | 2595/6101 [00:38<00:51, 68.53it/s]"
          ]
        },
        {
          "name": "stdout",
          "output_type": "stream",
          "text": [
            "evaluating at step 27000\n",
            "val {'macro_precision': 0.12149281085524563, 'macro_recall': 0.09065002013105548, 'macro_f1': 0.09829595874964658}\n",
            "tr {'macro_precision': 0.12440238869787093, 'macro_recall': 0.09068367829182689, 'macro_f1': 0.09901002965454277}\n",
            "saving at step 27000\n"
          ]
        },
        {
          "name": "stderr",
          "output_type": "stream",
          "text": [
            "Training:  92%|█████████▏| 5596/6101 [01:47<04:33,  1.85it/s]"
          ]
        },
        {
          "name": "stdout",
          "output_type": "stream",
          "text": [
            "evaluating at step 30000\n",
            "val {'macro_precision': 0.12435272545989405, 'macro_recall': 0.10904106904189714, 'macro_f1': 0.11517152345773266}\n",
            "tr {'macro_precision': 0.12337773762053317, 'macro_recall': 0.10862589577599709, 'macro_f1': 0.11447274071465756}\n",
            "saving at step 30000\n"
          ]
        },
        {
          "name": "stderr",
          "output_type": "stream",
          "text": [
            "Training: 100%|██████████| 6101/6101 [01:55<00:00, 52.94it/s]\n"
          ]
        },
        {
          "name": "stdout",
          "output_type": "stream",
          "text": [
            "training epoch 5\n"
          ]
        },
        {
          "name": "stderr",
          "output_type": "stream",
          "text": [
            "Training:  41%|████      | 2497/6101 [00:49<32:53,  1.83it/s]"
          ]
        },
        {
          "name": "stdout",
          "output_type": "stream",
          "text": [
            "evaluating at step 33000\n",
            "val {'macro_precision': 0.12126501939994713, 'macro_recall': 0.11568297988835233, 'macro_f1': 0.11801193259910008}\n",
            "tr {'macro_precision': 0.12193172858015178, 'macro_recall': 0.1150517168019506, 'macro_f1': 0.11801691874855703}\n",
            "saving at step 33000\n"
          ]
        },
        {
          "name": "stderr",
          "output_type": "stream",
          "text": [
            "Training:  90%|████████▉ | 5489/6101 [01:33<00:09, 62.82it/s]"
          ]
        },
        {
          "name": "stdout",
          "output_type": "stream",
          "text": [
            "evaluating at step 36000\n",
            "val {'macro_precision': 0.21503358717578444, 'macro_recall': 0.11930349686002059, 'macro_f1': 0.12814532269193704}\n",
            "tr {'macro_precision': 0.1898149318284035, 'macro_recall': 0.11880260453882506, 'macro_f1': 0.1272353099019655}\n",
            "saving at step 36000\n"
          ]
        },
        {
          "name": "stderr",
          "output_type": "stream",
          "text": [
            "Training: 100%|██████████| 6101/6101 [01:55<00:00, 52.87it/s]\n"
          ]
        },
        {
          "name": "stdout",
          "output_type": "stream",
          "text": [
            "training epoch 6\n"
          ]
        },
        {
          "name": "stderr",
          "output_type": "stream",
          "text": [
            "Training:  39%|███▉      | 2394/6101 [00:47<38:57,  1.59it/s]"
          ]
        },
        {
          "name": "stdout",
          "output_type": "stream",
          "text": [
            "evaluating at step 39000\n",
            "val {'macro_precision': 0.23360668084039948, 'macro_recall': 0.13375705827830586, 'macro_f1': 0.14563231354478653}\n",
            "tr {'macro_precision': 0.22648458276205513, 'macro_recall': 0.1335003013726192, 'macro_f1': 0.1449939935116795}\n",
            "saving at step 39000\n"
          ]
        },
        {
          "name": "stderr",
          "output_type": "stream",
          "text": [
            "Training:  88%|████████▊ | 5395/6101 [01:45<06:16,  1.88it/s]"
          ]
        },
        {
          "name": "stdout",
          "output_type": "stream",
          "text": [
            "evaluating at step 42000\n",
            "val {'macro_precision': 0.3045750369162191, 'macro_recall': 0.15250859013156326, 'macro_f1': 0.17071564493913488}\n",
            "tr {'macro_precision': 0.30681202897340637, 'macro_recall': 0.15178643088742344, 'macro_f1': 0.16910083766379724}\n",
            "saving at step 42000\n"
          ]
        },
        {
          "name": "stderr",
          "output_type": "stream",
          "text": [
            "Training: 100%|██████████| 6101/6101 [01:55<00:00, 52.76it/s]\n"
          ]
        },
        {
          "name": "stdout",
          "output_type": "stream",
          "text": [
            "training epoch 7\n"
          ]
        },
        {
          "name": "stderr",
          "output_type": "stream",
          "text": [
            "Training:  38%|███▊      | 2297/6101 [00:45<33:48,  1.88it/s]"
          ]
        },
        {
          "name": "stdout",
          "output_type": "stream",
          "text": [
            "evaluating at step 45000\n",
            "val {'macro_precision': 0.3168123779363948, 'macro_recall': 0.16764975526639236, 'macro_f1': 0.1964123880497086}\n",
            "tr {'macro_precision': 0.3279563781243489, 'macro_recall': 0.17456974204064465, 'macro_f1': 0.20496231628544545}\n",
            "saving at step 45000\n"
          ]
        },
        {
          "name": "stderr",
          "output_type": "stream",
          "text": [
            "Training:  87%|████████▋ | 5293/6101 [01:42<07:54,  1.70it/s]"
          ]
        },
        {
          "name": "stdout",
          "output_type": "stream",
          "text": [
            "evaluating at step 48000\n",
            "val {'macro_precision': 0.3342380029109521, 'macro_recall': 0.18188232961555956, 'macro_f1': 0.20819911899532226}\n",
            "tr {'macro_precision': 0.3886078595770884, 'macro_recall': 0.18825866672757396, 'macro_f1': 0.21589535756029446}\n",
            "saving at step 48000\n"
          ]
        },
        {
          "name": "stderr",
          "output_type": "stream",
          "text": [
            "Training: 100%|██████████| 6101/6101 [01:54<00:00, 53.41it/s]\n"
          ]
        },
        {
          "name": "stdout",
          "output_type": "stream",
          "text": [
            "training epoch 8\n"
          ]
        },
        {
          "name": "stderr",
          "output_type": "stream",
          "text": [
            "Training:  36%|███▌      | 2198/6101 [00:43<34:33,  1.88it/s]"
          ]
        },
        {
          "name": "stdout",
          "output_type": "stream",
          "text": [
            "evaluating at step 51000\n",
            "val {'macro_precision': 0.3408870210079305, 'macro_recall': 0.18853876130977218, 'macro_f1': 0.2237701366110899}\n",
            "tr {'macro_precision': 0.4246489984640806, 'macro_recall': 0.20074458972298304, 'macro_f1': 0.2383933336253146}\n",
            "saving at step 51000\n"
          ]
        },
        {
          "name": "stderr",
          "output_type": "stream",
          "text": [
            "Training:  85%|████████▌ | 5195/6101 [01:40<08:30,  1.78it/s]"
          ]
        },
        {
          "name": "stdout",
          "output_type": "stream",
          "text": [
            "evaluating at step 54000\n",
            "val {'macro_precision': 0.3697979591263244, 'macro_recall': 0.2136148170187514, 'macro_f1': 0.24561549634929772}\n",
            "tr {'macro_precision': 0.3926096892289464, 'macro_recall': 0.22737236776292372, 'macro_f1': 0.2621096048571388}\n",
            "saving at step 54000\n"
          ]
        },
        {
          "name": "stderr",
          "output_type": "stream",
          "text": [
            "Training: 100%|██████████| 6101/6101 [01:54<00:00, 53.12it/s]\n"
          ]
        },
        {
          "name": "stdout",
          "output_type": "stream",
          "text": [
            "training epoch 9\n"
          ]
        },
        {
          "name": "stderr",
          "output_type": "stream",
          "text": [
            "Training:  34%|███▍      | 2091/6101 [00:43<40:17,  1.66it/s]"
          ]
        },
        {
          "name": "stdout",
          "output_type": "stream",
          "text": [
            "evaluating at step 57000\n",
            "val {'macro_precision': 0.4081262036600162, 'macro_recall': 0.2144567783662476, 'macro_f1': 0.24663056075507564}\n",
            "tr {'macro_precision': 0.41331366420716337, 'macro_recall': 0.2364314002864458, 'macro_f1': 0.2737564025791662}\n",
            "saving at step 57000\n"
          ]
        },
        {
          "name": "stderr",
          "output_type": "stream",
          "text": [
            "Training:  83%|████████▎ | 5092/6101 [01:42<09:29,  1.77it/s]"
          ]
        },
        {
          "name": "stdout",
          "output_type": "stream",
          "text": [
            "evaluating at step 60000\n",
            "val {'macro_precision': 0.3945782620992259, 'macro_recall': 0.22327258326063365, 'macro_f1': 0.2579048482564836}\n",
            "tr {'macro_precision': 0.43463839478719524, 'macro_recall': 0.24429190636570938, 'macro_f1': 0.2830408938147957}\n",
            "saving at step 60000\n"
          ]
        },
        {
          "name": "stderr",
          "output_type": "stream",
          "text": [
            "Training: 100%|██████████| 6101/6101 [01:58<00:00, 51.63it/s]\n"
          ]
        }
      ],
      "source": [
        "model = create_go_emotion_pool(args, encoder)\n",
        "model, metadata = train(\n",
        "    model, \n",
        "    train_dataset, \n",
        "    val_dataset, \n",
        "    dict(args), \n",
        "    tokenizer, \n",
        "    epochs=args.train_epochs, \n",
        "    train_batch_size = args.train_batch_size, \n",
        "    val_batch_size = args.eval_batch_size, \n",
        "    save_steps = args.save_steps, \n",
        "    validation_steps= args.validation_steps, \n",
        "    archive_dir = args.output_dir, \n",
        "    model_name = args.model_name, \n",
        "    classification_threshold = args.classification_threshold, \n",
        "    learning_rate = args.learning_rate, \n",
        "    grad_clip_max = args.grad_clip_max, \n",
        "    weight_decay = args.weight_decay, \n",
        "    warmup_ratio = args.warmup_ratio, \n",
        "    logging_metrics= ['macro_f1', 'macro_precision', 'macro_recall'],\n",
        "    continue_training=False,\n",
        "    device = args.device\n",
        ")"
      ]
    },
    {
      "cell_type": "code",
      "execution_count": 24,
      "metadata": {},
      "outputs": [
        {
          "data": {
            "text/html": [
              "<div>\n",
              "<style scoped>\n",
              "    .dataframe tbody tr th:only-of-type {\n",
              "        vertical-align: middle;\n",
              "    }\n",
              "\n",
              "    .dataframe tbody tr th {\n",
              "        vertical-align: top;\n",
              "    }\n",
              "\n",
              "    .dataframe thead th {\n",
              "        text-align: right;\n",
              "    }\n",
              "</style>\n",
              "<table border=\"1\" class=\"dataframe\">\n",
              "  <thead>\n",
              "    <tr style=\"text-align: right;\">\n",
              "      <th></th>\n",
              "      <th>tr_metrics.loss</th>\n",
              "      <th>val_metrics.loss</th>\n",
              "      <th>val_metrics.trigger_rate</th>\n",
              "      <th>val_metrics.accuracy</th>\n",
              "      <th>val_metrics.macro_f1</th>\n",
              "      <th>val_metrics.micro_f1</th>\n",
              "      <th>checkpoint_id</th>\n",
              "    </tr>\n",
              "  </thead>\n",
              "  <tbody>\n",
              "    <tr>\n",
              "      <th>0</th>\n",
              "      <td>0.519420</td>\n",
              "      <td>0.519514</td>\n",
              "      <td>0.407454</td>\n",
              "      <td>0.588859</td>\n",
              "      <td>0.040198</td>\n",
              "      <td>0.095223</td>\n",
              "      <td>3000</td>\n",
              "    </tr>\n",
              "    <tr>\n",
              "      <th>1</th>\n",
              "      <td>0.209588</td>\n",
              "      <td>0.209275</td>\n",
              "      <td>0.000000</td>\n",
              "      <td>0.953043</td>\n",
              "      <td>0.000000</td>\n",
              "      <td>0.000000</td>\n",
              "      <td>6000</td>\n",
              "    </tr>\n",
              "    <tr>\n",
              "      <th>2</th>\n",
              "      <td>0.181303</td>\n",
              "      <td>0.180625</td>\n",
              "      <td>0.000000</td>\n",
              "      <td>0.953043</td>\n",
              "      <td>0.000000</td>\n",
              "      <td>0.000000</td>\n",
              "      <td>9000</td>\n",
              "    </tr>\n",
              "  </tbody>\n",
              "</table>\n",
              "</div>"
            ],
            "text/plain": [
              "   tr_metrics.loss  val_metrics.loss  val_metrics.trigger_rate  \\\n",
              "0         0.519420          0.519514                  0.407454   \n",
              "1         0.209588          0.209275                  0.000000   \n",
              "2         0.181303          0.180625                  0.000000   \n",
              "\n",
              "   val_metrics.accuracy  val_metrics.macro_f1  val_metrics.micro_f1  \\\n",
              "0              0.588859              0.040198              0.095223   \n",
              "1              0.953043              0.000000              0.000000   \n",
              "2              0.953043              0.000000              0.000000   \n",
              "\n",
              "   checkpoint_id  \n",
              "0           3000  \n",
              "1           6000  \n",
              "2           9000  "
            ]
          },
          "execution_count": 24,
          "metadata": {},
          "output_type": "execute_result"
        }
      ],
      "source": [
        "from sklearn.metrics import roc_curve\n",
        "import matplotlib.pyplot as plt\n",
        "\n",
        "df = get_attrs_from_checkpoints_meta(args.output_dir, args.model_name, [\n",
        "    'tr_metrics.loss', \n",
        "    'val_metrics.loss', \n",
        "    'val_metrics.trigger_rate', \n",
        "    'val_metrics.accuracy', \n",
        "    'val_metrics.macro_f1',\n",
        "    'val_metrics.micro_f1'\n",
        "])\n",
        "df.head(3)"
      ]
    },
    {
      "cell_type": "code",
      "execution_count": 26,
      "metadata": {},
      "outputs": [
        {
          "data": {
            "text/plain": [
              "<matplotlib.legend.Legend at 0x1e31b34e7f0>"
            ]
          },
          "execution_count": 26,
          "metadata": {},
          "output_type": "execute_result"
        },
        {
          "data": {
            "image/png": "[encoded data removed]",
            "text/plain": [
              "<Figure size 432x288 with 1 Axes>"
            ]
          },
          "metadata": {
            "needs_background": "light"
          },
          "output_type": "display_data"
        }
      ],
      "source": [
        "plt.plot(df['checkpoint_id'][3:], df['tr_metrics.loss'][3:], label='train')\n",
        "plt.plot(df['checkpoint_id'][3:], df['val_metrics.loss'][3:], label='val')\n",
        "plt.legend()"
      ]
    },
    {
      "cell_type": "code",
      "execution_count": 27,
      "metadata": {},
      "outputs": [
        {
          "data": {
            "text/plain": [
              "<matplotlib.legend.Legend at 0x1e36c427760>"
            ]
          },
          "execution_count": 27,
          "metadata": {},
          "output_type": "execute_result"
        },
        {
          "data": {
            "image/png": "[encoded data removed]",
            "text/plain": [
              "<Figure size 432x288 with 1 Axes>"
            ]
          },
          "metadata": {
            "needs_background": "light"
          },
          "output_type": "display_data"
        }
      ],
      "source": [
        "plt.plot(df['checkpoint_id'], df['val_metrics.micro_f1'], label='val')\n",
        "plt.plot(df['checkpoint_id'], \n",
        "np.gradient(np.gradient(df['val_metrics.accuracy'])), label='val')\n",
        "plt.legend()"
      ]
    },
    {
      "cell_type": "markdown",
      "metadata": {},
      "source": [
        "## Checking final model \n"
      ]
    },
    {
      "cell_type": "code",
      "execution_count": null,
      "metadata": {},
      "outputs": [],
      "source": [
        "from sklearn.metrics import roc_curve\n",
        "import matplotlib.pyplot as plt\n",
        "\n",
        "model, meta = load_from_checkpoint(\n",
        "    args.output_dir, \n",
        "    args.model_name, \n",
        "    checkpoint_id='3000', \n",
        "    load_metadata=True,\n",
        "    load_model=True, \n",
        "    model_cls=GoEmotionPoolClassifer\n",
        ")\n",
        "\n",
        "proba = predict_proba(\n",
        "    model, \n",
        "    val_dataset, \n",
        "    batch_size = args.eval_batch_size, \n",
        "    device = args.device\n",
        ")\n",
        "y_true = val_dataset[:]['y_true'].numpy()\n",
        "\n",
        "val_final = compute_classification_metrics(y_true, proba, threshold=args.classification_threshold)\n",
        "print(val_final)\n",
        "\n",
        "for i, emt in enumerate(args.emotions):\n",
        "    fpr, tpr, _ = roc_curve(y_true[:, i], proba[:, i])\n",
        "    plt.plot(fpr, tpr)\n",
        "    plt.title(emt)\n",
        "    plt.show()\n"
      ]
    },
    {
      "cell_type": "code",
      "execution_count": null,
      "metadata": {},
      "outputs": [],
      "source": [
        "proba_to_emotion(\n",
        "    proba_on_examples([\n",
        "        'fuck cloud', \n",
        "        'yeet'\n",
        "    ], model), \n",
        "    0.4, \n",
        "    args.emotions)"
      ]
    },
    {
      "cell_type": "code",
      "execution_count": null,
      "metadata": {},
      "outputs": [],
      "source": []
    }
  ],
  "metadata": {
    "accelerator": "GPU",
    "colab": {
      "collapsed_sections": [],
      "name": "Copy of bert-tf",
      "provenance": []
    },
    "kernelspec": {
      "display_name": "Python 3",
      "name": "python3"
    },
    "language_info": {
      "codemirror_mode": {
        "name": "ipython",
        "version": 3
      },
      "file_extension": ".py",
      "mimetype": "text/x-python",
      "name": "python",
      "nbconvert_exporter": "python",
      "pygments_lexer": "ipython3",
      "version": "3.9.7"
    }
  },
  "nbformat": 4,
  "nbformat_minor": 0
}
